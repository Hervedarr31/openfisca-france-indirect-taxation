{
 "cells": [
  {
   "cell_type": "markdown",
   "metadata": {},
   "source": [
    "# L'objectif des \"compare\" est d'évaluer la qualité des calages effectués. Ils comparent les dépenses ou quantités agrégées de Budget des Familles après calage, avec celles de la comptabilité nationale. Le calage est effectué sur les dépenses en carburants."
   ]
  },
  {
   "cell_type": "markdown",
   "metadata": {},
   "source": [
    "# Import de modules généraux"
   ]
  },
  {
   "cell_type": "code",
   "execution_count": 1,
   "metadata": {},
   "outputs": [],
   "source": [
    "import pkg_resources\n",
    "import os\n",
    "import pandas as pd\n",
    "from pandas import concat\n",
    "import seaborn\n",
    "\n",
    "from openfisca_france_indirect_taxation.examples.utils_example import graph_builder_line\n",
    "\n",
    "seaborn.set_palette(seaborn.color_palette(\"Set2\", 12))\n",
    "%matplotlib inline"
   ]
  },
  {
   "cell_type": "markdown",
   "metadata": {},
   "source": [
    "# Import des fichiers csv donnant les montants agrégés des dépenses répertoriées dans les enquêtes BdF. Ces montants sont calculés dans compute_depenses_carburants"
   ]
  },
  {
   "cell_type": "code",
   "execution_count": 5,
   "metadata": {},
   "outputs": [
    {
     "name": "stdout",
     "output_type": "stream",
     "text": [
      "       depense_diesel_bdf  depense_essence_bdf  depense_carburants_bdf  \\\n",
      "annee                                                                    \n",
      "2011         27636.350100         14116.600743            41752.950842   \n",
      "2005         18882.886691         15723.113224            34605.999915   \n",
      "2000         12987.594644         18087.405340            31074.999984   \n",
      "\n",
      "       depense_transports_bdf  \n",
      "annee                          \n",
      "2011            131062.850158  \n",
      "2005            105711.877297  \n",
      "2000             90351.335559  \n"
     ]
    }
   ],
   "source": [
    "assets_directory = os.path.join(\n",
    "    pkg_resources.get_distribution('openfisca_france_indirect_taxation').location\n",
    "    )\n",
    "\n",
    "products = ['transports', 'carburants', 'essence', 'diesel']\n",
    "depenses_bdf = pd.DataFrame()\n",
    "for element in products:\n",
    "    depenses = pd.read_csv(os.path.join(assets_directory,\n",
    "            'openfisca_france_indirect_taxation', 'assets', 'depenses',\n",
    "            'depenses_{}_totales_bdf.csv').format(element), sep = ',')\n",
    "    depenses.rename(\n",
    "        columns = {\"depense\": 'depense_{}_bdf'.format(element)}, \n",
    "        inplace = True,\n",
    "        )\n",
    "    \n",
    "    depenses.set_index('annee', inplace = True)\n",
    "    depenses_bdf = concat([depenses / 1e6, depenses_bdf], axis = 1)\n",
    "\n",
    "print(depenses_bdf)\n"
   ]
  },
  {
   "cell_type": "markdown",
   "metadata": {},
   "source": [
    "# Import des fichiers csv donnant les montants agrégés des mêmes postes d'après la comptabilité nationale"
   ]
  },
  {
   "cell_type": "code",
   "execution_count": 10,
   "metadata": {},
   "outputs": [
    {
     "name": "stdout",
     "output_type": "stream",
     "text": [
      "      depense_diesel_bdf  depense_essence_bdf  depense_carburants_bdf  \\\n",
      "2000        12987.594644         18087.405340            31074.999984   \n",
      "2005        18882.886691         15723.113224            34605.999915   \n",
      "2011        27636.350100         14116.600743            41752.950842   \n",
      "\n",
      "      depense_transports_bdf carburants agregat transports agregat  \n",
      "2000            90351.335559            31075.7             116130  \n",
      "2005           105711.877297              34606             136837  \n",
      "2011           131062.850158            41765.9             160316  \n"
     ]
    }
   ],
   "source": [
    "parametres_fiscalite_file_path = os.path.join(\n",
    "    assets_directory,\n",
    "    'openfisca_france_indirect_taxation',\n",
    "    'assets',\n",
    "    'legislation',\n",
    "    'Parametres fiscalite indirecte.xls'\n",
    "    )\n",
    "masses_cn_data_frame = pd.read_excel(parametres_fiscalite_file_path, sheet_name = \"consommation_CN\")\n",
    "\n",
    "\n",
    "masses_cn_carburants = masses_cn_data_frame[masses_cn_data_frame['Fonction'] == 'Carburants et lubrifiants']\n",
    "masses_cn_carburants = masses_cn_carburants.transpose()\n",
    "\n",
    "masses_cn_carburants.rename(columns = {76: 'carburants agregat'}, inplace = True)\n",
    "\n",
    "\n",
    "masses_cn_transports = masses_cn_data_frame[masses_cn_data_frame['Fonction'] == 'Transports']\n",
    "masses_cn_transports = masses_cn_transports.transpose()\n",
    "masses_cn_transports.rename(columns = {69: 'transports agregat'}, inplace = True)\n",
    "\n",
    "comparaison_bdf_agregats = concat([\n",
    "    depenses_bdf, \n",
    "    masses_cn_carburants, \n",
    "    masses_cn_transports], \n",
    "    axis = 1\n",
    "    )\n",
    "comparaison_bdf_agregats = comparaison_bdf_agregats.dropna()\n",
    "print(comparaison_bdf_agregats)\n"
   ]
  },
  {
   "cell_type": "markdown",
   "metadata": {},
   "source": [
    "# Création des graphiques pour comparer les consommations obtenues via Budget des familles vis-à-vis de la comptabilité nationale"
   ]
  },
  {
   "cell_type": "code",
   "execution_count": 11,
   "metadata": {},
   "outputs": [
    {
     "name": "stdout",
     "output_type": "stream",
     "text": [
      "Comparaison des dépenses agrégées en carburant, Budget des Familles par rapport à la comptabilité nationale\n"
     ]
    },
    {
     "data": {
      "image/png": "[encoded data removed]",
      "text/plain": [
       "<Figure size 432x288 with 1 Axes>"
      ]
     },
     "metadata": {
      "needs_background": "light"
     },
     "output_type": "display_data"
    },
    {
     "name": "stdout",
     "output_type": "stream",
     "text": [
      "Comparaison des dépenses agrégées sur les transports, Budget des Familles par rapport à la comptabilité nationale\n"
     ]
    },
    {
     "data": {
      "image/png": "[encoded data removed]",
      "text/plain": [
       "<Figure size 432x288 with 1 Axes>"
      ]
     },
     "metadata": {
      "needs_background": "light"
     },
     "output_type": "display_data"
    }
   ],
   "source": [
    "print('Comparaison des dépenses agrégées en carburant, Budget des Familles par rapport à la comptabilité nationale')\n",
    "graph_builder_line(comparaison_bdf_agregats[['carburants agregat', 'depense_carburants_bdf']])\n",
    "print('Comparaison des dépenses agrégées sur les transports, Budget des Familles par rapport à la comptabilité nationale')\n",
    "graph_builder_line(comparaison_bdf_agregats[['transports agregat', 'depense_transports_bdf']])"
   ]
  },
  {
   "cell_type": "code",
   "execution_count": null,
   "metadata": {},
   "outputs": [],
   "source": []
  }
 ],
 "metadata": {
  "kernelspec": {
   "display_name": "indirect_taxation",
   "language": "python",
   "name": "indirect_taxation"
  },
  "language_info": {
   "codemirror_mode": {
    "name": "ipython",
    "version": 3
   },
   "file_extension": ".py",
   "mimetype": "text/x-python",
   "name": "python",
   "nbconvert_exporter": "python",
   "pygments_lexer": "ipython3",
   "version": "3.7.3"
  }
 },
 "nbformat": 4,
 "nbformat_minor": 1
}
