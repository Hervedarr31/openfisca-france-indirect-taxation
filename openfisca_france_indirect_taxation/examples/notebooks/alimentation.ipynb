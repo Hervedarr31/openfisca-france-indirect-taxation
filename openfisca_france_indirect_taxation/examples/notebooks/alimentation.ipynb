{
 "cells": [
  {
   "cell_type": "markdown",
   "metadata": {},
   "source": [
    "# TVA sur les biens alimentaires"
   ]
  },
  {
   "cell_type": "code",
   "execution_count": 1,
   "metadata": {
    "collapsed": false
   },
   "outputs": [
    {
     "ename": "SyntaxError",
     "evalue": "invalid syntax (aliss.py, line 382)",
     "output_type": "error",
     "traceback": [
      "\u001b[1;36m  File \u001b[1;32m\"/home/benjello/openfisca/openfisca-france-indirect-taxation/openfisca_france_indirect_taxation/reforms/aliss.py\"\u001b[1;36m, line \u001b[1;32m382\u001b[0m\n\u001b[1;33m    function = new_tva_total_func,\u001b[0m\n\u001b[1;37m           ^\u001b[0m\n\u001b[1;31mSyntaxError\u001b[0m\u001b[1;31m:\u001b[0m invalid syntax\n"
     ]
    }
   ],
   "source": [
    "from __future__ import division\n",
    "\n",
    "import numpy as np\n",
    "import os\n",
    "import pandas as pd\n",
    "import pkg_resources\n",
    "import seaborn\n",
    "\n",
    "from openfisca_france_indirect_taxation.surveys import SurveyScenario\n",
    "from openfisca_france_indirect_taxation.build_survey_data.calibration_aliss import get_adjusted_input_data_frame\n"
   ]
  },
  {
   "cell_type": "code",
   "execution_count": null,
   "metadata": {
    "collapsed": true
   },
   "outputs": [],
   "source": [
    "year = 2014\n",
    "data_year = 2011\n",
    "reform_key = 'aliss_sante'\n",
    "scenario_kwargs = dict(year = year, data_year = 2011, reform_key = reform_key)\n",
    "survey_scenario = SurveyScenario.create(**scenario_kwargs)\n",
    "# "
   ]
  },
  {
   "cell_type": "code",
   "execution_count": null,
   "metadata": {
    "collapsed": false
   },
   "outputs": [],
   "source": [
    "adjusted_scenario_kwargs = dict(scenario_kwargs)\n",
    "adjusted_scenario_kwargs.update(dict(\n",
    "    data_year = None,\n",
    "    input_data_frame = get_adjusted_input_data_frame(reform_key = reform_key[6:])\n",
    "    ))\n",
    "adjusted_survey_scenario = SurveyScenario.create(**adjusted_scenario_kwargs) "
   ]
  },
  {
   "cell_type": "code",
   "execution_count": null,
   "metadata": {
    "collapsed": false
   },
   "outputs": [],
   "source": [
    "alimentation_domicile_hors_alcool = [\n",
    "    \"depenses_ht_{}\".format(key) for key in survey_scenario.tax_benefit_system.column_by_name.keys() \\\n",
    "    if key.startswith(u'poste_01')\n",
    "    ]\n",
    "alimentation_domicile = alimentation_domicile_hors_alcool + [\n",
    "    'depenses_biere',\n",
    "    'depenses_vin',\n",
    "    'depenses_alcools_forts'\n",
    "    ]\n",
    "depenses_ht_tvas = [\n",
    "    \"depenses_ht_{}\".format(key) for key in survey_scenario.tax_benefit_system.column_by_name.keys() \\\n",
    "    if key.startswith(u'tva_taux_')\n",
    "    ]\n",
    "tvas = [\n",
    "    key for key in survey_scenario.tax_benefit_system.column_by_name.keys() \\\n",
    "    if key.startswith(u'tva_taux_')\n",
    "    ]\n"
   ]
  },
  {
   "cell_type": "code",
   "execution_count": null,
   "metadata": {
    "collapsed": false
   },
   "outputs": [],
   "source": [
    "variables = alimentation_domicile + [\n",
    "    'poste_agrege_01',\n",
    "    'poste_agrege_02', \n",
    "    ] + depenses_ht_tvas + tvas"
   ]
  },
  {
   "cell_type": "code",
   "execution_count": null,
   "metadata": {
    "collapsed": false
   },
   "outputs": [],
   "source": [
    "pivot_table = pd.DataFrame()\n",
    "reference_pivot_table = pd.DataFrame()\n",
    "adjusted_pivot_table = pd.DataFrame()\n",
    "aggregates = dict()\n",
    "reference_aggregates = dict()\n",
    "adjusted_aggregates = dict()\n",
    "\n",
    "for variable in variables:\n",
    "    pivot_table = pd.concat([\n",
    "        pivot_table,\n",
    "        survey_scenario.compute_pivot_table(values = [variable], columns = ['niveau_vie_decile'])\n",
    "        ])\n",
    "    reference_pivot_table = pd.concat([\n",
    "        reference_pivot_table.fillna(0),\n",
    "        survey_scenario.compute_pivot_table(values = [variable], columns = ['niveau_vie_decile'],\n",
    "                                           reference = True)\n",
    "        ])\n",
    "    adjusted_pivot_table = pd.concat([\n",
    "        adjusted_pivot_table,\n",
    "        adjusted_survey_scenario.compute_pivot_table(values = [variable], columns = ['niveau_vie_decile'])\n",
    "        ])\n",
    "    aggregates[variable] = survey_scenario.compute_aggregate(variable) / 1e9\n",
    "    reference_aggregates[variable] = (\n",
    "        survey_scenario.compute_aggregate(variable, reference = True) / 1e9\n",
    "        if np.isfinite(survey_scenario.compute_aggregate(variable, reference = True)) else 0\n",
    "        )\n",
    "    adjusted_aggregates[variable] = adjusted_survey_scenario.compute_aggregate(variable) / 1e9\n",
    "    \n"
   ]
  },
  {
   "cell_type": "code",
   "execution_count": null,
   "metadata": {
    "collapsed": false
   },
   "outputs": [],
   "source": [
    "reference_aggregates['depenses_ht_tva_taux_01_1_1_1_1']"
   ]
  },
  {
   "cell_type": "code",
   "execution_count": null,
   "metadata": {
    "collapsed": false
   },
   "outputs": [],
   "source": [
    "assert sum(aggregates[aliment] - reference_aggregates[aliment] for aliment in alimentation_domicile) == 0"
   ]
  },
  {
   "cell_type": "code",
   "execution_count": null,
   "metadata": {
    "collapsed": false
   },
   "outputs": [],
   "source": [
    "assert aggregates['poste_agrege_02'] - reference_aggregates['poste_agrege_02'] < 1e-7"
   ]
  },
  {
   "cell_type": "code",
   "execution_count": null,
   "metadata": {
    "collapsed": false
   },
   "outputs": [],
   "source": [
    "for key in sorted(aggregates.keys()):\n",
    "    if round(aggregates[key] - reference_aggregates[key], 3) != 0:\n",
    "         print key, ': ', round(aggregates[key], 3), ' - ', round(reference_aggregates[key], 3), ' = ', round(aggregates[key] - reference_aggregates[key], 3)"
   ]
  },
  {
   "cell_type": "code",
   "execution_count": null,
   "metadata": {
    "collapsed": false
   },
   "outputs": [],
   "source": [
    "for key in sorted(aggregates.keys()):\n",
    "    if round(adjusted_aggregates[key] - aggregates[key], 3) != 0:\n",
    "         print key, ': ', round(adjusted_aggregates[key], 3), ' - ', round(aggregates[key], 3), ' = ', round(adjusted_aggregates[key] - aggregates[key], 3)"
   ]
  },
  {
   "cell_type": "code",
   "execution_count": null,
   "metadata": {
    "collapsed": false
   },
   "outputs": [],
   "source": [
    "from openfisca_france_indirect_taxation.model.consommation.postes_coicop import get_legislation_data_frames\n",
    "categories_fiscales_data_frame, codes_coicop_data_frame = get_legislation_data_frames()"
   ]
  },
  {
   "cell_type": "code",
   "execution_count": null,
   "metadata": {
    "collapsed": false
   },
   "outputs": [],
   "source": [
    "aggregates['poste_agrege_01'] - reference_aggregates['poste_agrege_01']"
   ]
  },
  {
   "cell_type": "code",
   "execution_count": null,
   "metadata": {
    "collapsed": false
   },
   "outputs": [],
   "source": [
    "pivot_table - reference_pivot_table"
   ]
  },
  {
   "cell_type": "code",
   "execution_count": null,
   "metadata": {
    "collapsed": false
   },
   "outputs": [],
   "source": [
    "adjusted_pivot_table - pivot_table"
   ]
  },
  {
   "cell_type": "code",
   "execution_count": null,
   "metadata": {
    "collapsed": true
   },
   "outputs": [],
   "source": []
  }
 ],
 "metadata": {
  "kernelspec": {
   "display_name": "Python 2",
   "language": "python",
   "name": "python2"
  },
  "language_info": {
   "codemirror_mode": {
    "name": "ipython",
    "version": 2
   },
   "file_extension": ".py",
   "mimetype": "text/x-python",
   "name": "python",
   "nbconvert_exporter": "python",
   "pygments_lexer": "ipython2",
   "version": "2.7.11+"
  }
 },
 "nbformat": 4,
 "nbformat_minor": 0
}
