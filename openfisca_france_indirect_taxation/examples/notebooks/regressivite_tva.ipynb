{
 "cells": [
  {
   "cell_type": "markdown",
   "metadata": {},
   "source": [
    "# Dans ce script on calcul la contribution des ménages à la TVA, par décile de revenu. On compare également l'importance de différents taux de TVA dans la consommation des ménages selon le décile de revenu."
   ]
  },
  {
   "cell_type": "code",
   "execution_count": 1,
   "metadata": {},
   "outputs": [],
   "source": [
    "\n",
    "\n",
    "import pandas\n",
    "import seaborn\n",
    "from openfisca_france_indirect_taxation.examples.utils_example import graph_builder_bar\n",
    "from openfisca_france_indirect_taxation.surveys import SurveyScenario"
   ]
  },
  {
   "cell_type": "markdown",
   "metadata": {},
   "source": [
    "# Import de modules spécifiques à Openfisca"
   ]
  },
  {
   "cell_type": "code",
   "execution_count": 2,
   "metadata": {},
   "outputs": [],
   "source": []
  },
  {
   "cell_type": "markdown",
   "metadata": {},
   "source": [
    "# Import d'une nouvelle palette de couleurs"
   ]
  },
  {
   "cell_type": "code",
   "execution_count": 3,
   "metadata": {},
   "outputs": [],
   "source": [
    "seaborn.set_palette(seaborn.color_palette(\"Set2\", 12))\n",
    "%matplotlib inline"
   ]
  },
  {
   "cell_type": "markdown",
   "metadata": {},
   "source": [
    "# Sélection des variables pour la simulation"
   ]
  },
  {
   "cell_type": "code",
   "execution_count": 4,
   "metadata": {},
   "outputs": [],
   "source": [
    "simulated_variables = [\n",
    "    'tva_taux_plein',\n",
    "    'tva_taux_intermediaire',\n",
    "    'tva_taux_reduit',\n",
    "    'tva_taux_super_reduit',\n",
    "    'rev_disponible',\n",
    "    'tva_total'\n",
    "    ]"
   ]
  },
  {
   "cell_type": "markdown",
   "metadata": {},
   "source": [
    "# Calcul de la part de chaque type de TVA dans le revenu disponible des ménages, par décile de revenu"
   ]
  },
  {
   "cell_type": "code",
   "execution_count": 5,
   "metadata": {},
   "outputs": [
    {
     "ename": "AssertionError",
     "evalue": "",
     "output_type": "error",
     "traceback": [
      "\u001b[0;31m---------------------------------------------------------------------------\u001b[0m",
      "\u001b[0;31mAssertionError\u001b[0m                            Traceback (most recent call last)",
      "\u001b[0;32m<ipython-input-5-83861b9edc10>\u001b[0m in \u001b[0;36m<module>\u001b[0;34m\u001b[0m\n\u001b[1;32m      5\u001b[0m         pivot_table = pandas.concat([\n\u001b[1;32m      6\u001b[0m             \u001b[0mpivot_table\u001b[0m\u001b[0;34m,\u001b[0m\u001b[0;34m\u001b[0m\u001b[0;34m\u001b[0m\u001b[0m\n\u001b[0;32m----> 7\u001b[0;31m             \u001b[0msurvey_scenario\u001b[0m\u001b[0;34m.\u001b[0m\u001b[0mcompute_pivot_table\u001b[0m\u001b[0;34m(\u001b[0m\u001b[0mvalues\u001b[0m \u001b[0;34m=\u001b[0m \u001b[0;34m[\u001b[0m\u001b[0mvalues\u001b[0m\u001b[0;34m]\u001b[0m\u001b[0;34m,\u001b[0m \u001b[0mcolumns\u001b[0m \u001b[0;34m=\u001b[0m \u001b[0;34m[\u001b[0m\u001b[0;34m'niveau_vie_decile'\u001b[0m\u001b[0;34m]\u001b[0m\u001b[0;34m)\u001b[0m\u001b[0;34m\u001b[0m\u001b[0;34m\u001b[0m\u001b[0m\n\u001b[0m\u001b[1;32m      8\u001b[0m             ])\n\u001b[1;32m      9\u001b[0m     \u001b[0mtaxes_indirectes\u001b[0m \u001b[0;34m=\u001b[0m \u001b[0mpivot_table\u001b[0m\u001b[0;34m.\u001b[0m\u001b[0mT\u001b[0m\u001b[0;34m\u001b[0m\u001b[0;34m\u001b[0m\u001b[0m\n",
      "\u001b[0;32m~/openfisca/openfisca-survey-manager/openfisca_survey_manager/scenarios.py\u001b[0m in \u001b[0;36mcompute_pivot_table\u001b[0;34m(self, aggfunc, columns, difference, filter_by, index, period, use_baseline, use_baseline_for_columns, values, missing_variable_default_value, concat_axis)\u001b[0m\n\u001b[1;32m    324\u001b[0m         \u001b[0;32massert\u001b[0m \u001b[0mcolumns\u001b[0m \u001b[0;32mor\u001b[0m \u001b[0mindex\u001b[0m \u001b[0;32mor\u001b[0m \u001b[0mvalues\u001b[0m\u001b[0;34m\u001b[0m\u001b[0;34m\u001b[0m\u001b[0m\n\u001b[1;32m    325\u001b[0m         \u001b[0;32massert\u001b[0m \u001b[0;32mnot\u001b[0m \u001b[0;34m(\u001b[0m\u001b[0mdifference\u001b[0m \u001b[0;32mand\u001b[0m \u001b[0muse_baseline\u001b[0m\u001b[0;34m)\u001b[0m\u001b[0;34m,\u001b[0m \u001b[0;34m\"Can't have difference and use_baseline both set to True\"\u001b[0m\u001b[0;34m\u001b[0m\u001b[0;34m\u001b[0m\u001b[0m\n\u001b[0;32m--> 326\u001b[0;31m         \u001b[0;32massert\u001b[0m \u001b[0mperiod\u001b[0m \u001b[0;32mis\u001b[0m \u001b[0;32mnot\u001b[0m \u001b[0;32mNone\u001b[0m\u001b[0;34m\u001b[0m\u001b[0;34m\u001b[0m\u001b[0m\n\u001b[0m\u001b[1;32m    327\u001b[0m \u001b[0;34m\u001b[0m\u001b[0m\n\u001b[1;32m    328\u001b[0m         tax_benefit_system = self.baseline_tax_benefit_system if (\n",
      "\u001b[0;31mAssertionError\u001b[0m: "
     ]
    }
   ],
   "source": [
    "for year in [2000, 2005, 2011]:\n",
    "    survey_scenario = SurveyScenario.create(year = year)\n",
    "    pivot_table = pandas.DataFrame()\n",
    "    for values in simulated_variables:\n",
    "        pivot_table = pandas.concat([\n",
    "            pivot_table,\n",
    "            survey_scenario.compute_pivot_table(values = [values], columns = ['niveau_vie_decile'])\n",
    "            ])\n",
    "    taxes_indirectes = pivot_table.T\n",
    "\n",
    "    taxes_indirectes[u'Part TVA taux super réduit'] = \\\n",
    "        taxes_indirectes['tva_taux_super_reduit'] / taxes_indirectes['rev_disponible']\n",
    "    taxes_indirectes[u'Part TVA taux réduit'] = \\\n",
    "        taxes_indirectes['tva_taux_reduit'] / taxes_indirectes['rev_disponible']\n",
    "    taxes_indirectes[u'Part TVA taux intermédiaire'] = \\\n",
    "        taxes_indirectes['tva_taux_intermediaire'] / taxes_indirectes['rev_disponible']\n",
    "    taxes_indirectes[u'Part TVA taux plein'] = \\\n",
    "        taxes_indirectes['tva_taux_plein'] / taxes_indirectes['rev_disponible']\n",
    "\n",
    "    df_to_graph = taxes_indirectes[[u'Part TVA taux plein', u'Part TVA taux intermédiaire',\n",
    "        u'Part TVA taux super réduit', u'Part TVA taux réduit']]\n",
    "\n",
    "    print(''' Part de chaque type de TVA dans le revenu disponible des ménages pour l'année {} ''').format(year)\n",
    "    graph_builder_bar(df_to_graph)\n"
   ]
  },
  {
   "cell_type": "code",
   "execution_count": null,
   "metadata": {},
   "outputs": [],
   "source": [
    "for year in [2000, 2005, 2011]:\n",
    "    survey_scenario = SurveyScenario.create(year = year)\n",
    "    pivot_table = pandas.DataFrame()\n",
    "    for values in simulated_variables:\n",
    "        pivot_table = pandas.concat([\n",
    "            pivot_table,\n",
    "            survey_scenario.compute_pivot_table(values = [values], columns = ['niveau_vie_decile'])\n",
    "            ])\n",
    "    taxes_indirectes = pivot_table.T\n",
    "\n",
    "    taxes_indirectes[u'Part taux super réduit'] = \\\n",
    "        taxes_indirectes['tva_taux_super_reduit'] / taxes_indirectes['tva_total']\n",
    "    taxes_indirectes[u'Part taux réduit'] = \\\n",
    "        taxes_indirectes['tva_taux_reduit'] / taxes_indirectes['tva_total']\n",
    "    taxes_indirectes[u'Part taux intermédiaire'] = \\\n",
    "        taxes_indirectes['tva_taux_intermediaire'] / taxes_indirectes['tva_total']\n",
    "    taxes_indirectes[u'Part taux plein'] = \\\n",
    "        taxes_indirectes['tva_taux_plein'] / taxes_indirectes['tva_total']\n",
    "\n",
    "    df_to_graph = taxes_indirectes[[u'Part taux plein', u'Part taux intermédiaire',\n",
    "        u'Part taux super réduit', u'Part taux réduit']]\n",
    "\n",
    "    print(''' Part de chaque type de TVA dans la contribution totale en TVA des ménages pour l'année {} ''').format(year)\n",
    "    graph_builder_bar(df_to_graph)\n"
   ]
  },
  {
   "cell_type": "code",
   "execution_count": null,
   "metadata": {},
   "outputs": [],
   "source": []
  }
 ],
 "metadata": {
  "kernelspec": {
   "display_name": "indirect_taxation",
   "language": "python",
   "name": "indirect_taxation"
  },
  "language_info": {
   "codemirror_mode": {
    "name": "ipython",
    "version": 3
   },
   "file_extension": ".py",
   "mimetype": "text/x-python",
   "name": "python",
   "nbconvert_exporter": "python",
   "pygments_lexer": "ipython3",
   "version": "3.7.3"
  }
 },
 "nbformat": 4,
 "nbformat_minor": 1
}
