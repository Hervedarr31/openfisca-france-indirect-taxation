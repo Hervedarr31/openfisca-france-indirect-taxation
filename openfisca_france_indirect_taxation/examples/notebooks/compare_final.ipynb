{
 "cells": [
  {
   "cell_type": "markdown",
   "metadata": {},
   "source": [
    "# Qualité des calages\n",
    "\n",
    "Les dépenses ou quantités agrégées de Budget des Familles après calage, avec celles de la comptabilité nationale. Le calage est effectué sur les dépenses en carburants."
   ]
  },
  {
   "cell_type": "code",
   "execution_count": 4,
   "metadata": {},
   "outputs": [],
   "source": [
    "# Import de modules généraux\n",
    "\n",
    "import pkg_resources\n",
    "import os\n",
    "import seaborn\n",
    "\n",
    "import pandas as pd\n",
    "from pandas import concat\n",
    "\n",
    "from openfisca_france_indirect_taxation.examples.utils_example import graph_builder_line\n",
    "\n",
    "# from ipp_macro_series_parser.agregats_transports.transports_cleaner import g2_1\n",
    "from openfisca_france_indirect_taxation.utils import get_input_data_frame\n",
    "from openfisca_france_indirect_taxation.examples.utils_example import graph_builder_line\n",
    "\n",
    "\n",
    "# palette de couleurs\n",
    "seaborn.set_palette(seaborn.color_palette(\"Set2\", 12))\n",
    "%matplotlib inline\n",
    "\n",
    "assets_directory = os.path.join(\n",
    "    pkg_resources.get_distribution('openfisca_france_indirect_taxation').location,\n",
    "    'openfisca_france_indirect_taxation', \n",
    "    'assets'\n",
    "    )"
   ]
  },
  {
   "cell_type": "markdown",
   "metadata": {},
   "source": [
    "## Transport et carburants\n",
    "### Dépenses agrégées issue de l'enquête Budget des familles"
   ]
  },
  {
   "cell_type": "code",
   "execution_count": 5,
   "metadata": {},
   "outputs": [
    {
     "name": "stderr",
     "output_type": "stream",
     "text": [
      "/home/benjello/.virtualenvs/indirect-taxation/lib/python3.7/site-packages/ipykernel_launcher.py:10: FutureWarning: from_csv is deprecated. Please use read_csv(...) instead. Note that some of the default arguments are different, so please refer to the documentation for from_csv when changing your function calls\n",
      "  # Remove the CWD from sys.path while we load stuff.\n",
      "/home/benjello/.virtualenvs/indirect-taxation/lib/python3.7/site-packages/ipykernel_launcher.py:10: FutureWarning: from_csv is deprecated. Please use read_csv(...) instead. Note that some of the default arguments are different, so please refer to the documentation for from_csv when changing your function calls\n",
      "  # Remove the CWD from sys.path while we load stuff.\n",
      "/home/benjello/.virtualenvs/indirect-taxation/lib/python3.7/site-packages/ipykernel_launcher.py:10: FutureWarning: from_csv is deprecated. Please use read_csv(...) instead. Note that some of the default arguments are different, so please refer to the documentation for from_csv when changing your function calls\n",
      "  # Remove the CWD from sys.path while we load stuff.\n",
      "/home/benjello/.virtualenvs/indirect-taxation/lib/python3.7/site-packages/ipykernel_launcher.py:10: FutureWarning: from_csv is deprecated. Please use read_csv(...) instead. Note that some of the default arguments are different, so please refer to the documentation for from_csv when changing your function calls\n",
      "  # Remove the CWD from sys.path while we load stuff.\n"
     ]
    },
    {
     "ename": "TypeError",
     "evalue": "Cannot cast Index to dtype <class 'int'>",
     "output_type": "error",
     "traceback": [
      "\u001b[0;31m---------------------------------------------------------------------------\u001b[0m",
      "\u001b[0;31mValueError\u001b[0m                                Traceback (most recent call last)",
      "\u001b[0;32m~/.virtualenvs/indirect-taxation/lib/python3.7/site-packages/pandas/core/indexes/base.py\u001b[0m in \u001b[0;36mastype\u001b[0;34m(self, dtype, copy)\u001b[0m\n\u001b[1;32m    756\u001b[0m                                      copy=copy)\n\u001b[0;32m--> 757\u001b[0;31m             return Index(self.values.astype(dtype, copy=copy), name=self.name,\n\u001b[0m\u001b[1;32m    758\u001b[0m                          dtype=dtype)\n",
      "\u001b[0;31mValueError\u001b[0m: invalid literal for int() with base 10: 'annee'",
      "\nDuring handling of the above exception, another exception occurred:\n",
      "\u001b[0;31mTypeError\u001b[0m                                 Traceback (most recent call last)",
      "\u001b[0;32m<ipython-input-5-2e2d53aadb61>\u001b[0m in \u001b[0;36m<module>\u001b[0;34m\u001b[0m\n\u001b[1;32m     16\u001b[0m \u001b[0;34m\u001b[0m\u001b[0m\n\u001b[1;32m     17\u001b[0m \u001b[0mdepenses_bdf\u001b[0m\u001b[0;34m\u001b[0m\u001b[0;34m\u001b[0m\u001b[0m\n\u001b[0;32m---> 18\u001b[0;31m \u001b[0mdepenses_bdf\u001b[0m\u001b[0;34m.\u001b[0m\u001b[0mindex\u001b[0m \u001b[0;34m=\u001b[0m \u001b[0mdepenses_bdf\u001b[0m\u001b[0;34m.\u001b[0m\u001b[0mindex\u001b[0m\u001b[0;34m.\u001b[0m\u001b[0mastype\u001b[0m\u001b[0;34m(\u001b[0m\u001b[0mint\u001b[0m\u001b[0;34m)\u001b[0m\u001b[0;34m\u001b[0m\u001b[0;34m\u001b[0m\u001b[0m\n\u001b[0m\u001b[1;32m     19\u001b[0m \u001b[0mdepenses_bdf\u001b[0m\u001b[0;34m.\u001b[0m\u001b[0mdropna\u001b[0m\u001b[0;34m(\u001b[0m\u001b[0minplace\u001b[0m \u001b[0;34m=\u001b[0m \u001b[0;32mTrue\u001b[0m\u001b[0;34m)\u001b[0m\u001b[0;34m\u001b[0m\u001b[0;34m\u001b[0m\u001b[0m\n\u001b[1;32m     20\u001b[0m \u001b[0mdepenses_bdf\u001b[0m\u001b[0;34m\u001b[0m\u001b[0;34m\u001b[0m\u001b[0m\n",
      "\u001b[0;32m~/.virtualenvs/indirect-taxation/lib/python3.7/site-packages/pandas/core/indexes/base.py\u001b[0m in \u001b[0;36mastype\u001b[0;34m(self, dtype, copy)\u001b[0m\n\u001b[1;32m    759\u001b[0m         \u001b[0;32mexcept\u001b[0m \u001b[0;34m(\u001b[0m\u001b[0mTypeError\u001b[0m\u001b[0;34m,\u001b[0m \u001b[0mValueError\u001b[0m\u001b[0;34m)\u001b[0m\u001b[0;34m:\u001b[0m\u001b[0;34m\u001b[0m\u001b[0;34m\u001b[0m\u001b[0m\n\u001b[1;32m    760\u001b[0m             \u001b[0mmsg\u001b[0m \u001b[0;34m=\u001b[0m \u001b[0;34m'Cannot cast {name} to dtype {dtype}'\u001b[0m\u001b[0;34m\u001b[0m\u001b[0;34m\u001b[0m\u001b[0m\n\u001b[0;32m--> 761\u001b[0;31m             \u001b[0;32mraise\u001b[0m \u001b[0mTypeError\u001b[0m\u001b[0;34m(\u001b[0m\u001b[0mmsg\u001b[0m\u001b[0;34m.\u001b[0m\u001b[0mformat\u001b[0m\u001b[0;34m(\u001b[0m\u001b[0mname\u001b[0m\u001b[0;34m=\u001b[0m\u001b[0mtype\u001b[0m\u001b[0;34m(\u001b[0m\u001b[0mself\u001b[0m\u001b[0;34m)\u001b[0m\u001b[0;34m.\u001b[0m\u001b[0m__name__\u001b[0m\u001b[0;34m,\u001b[0m \u001b[0mdtype\u001b[0m\u001b[0;34m=\u001b[0m\u001b[0mdtype\u001b[0m\u001b[0;34m)\u001b[0m\u001b[0;34m)\u001b[0m\u001b[0;34m\u001b[0m\u001b[0;34m\u001b[0m\u001b[0m\n\u001b[0m\u001b[1;32m    762\u001b[0m \u001b[0;34m\u001b[0m\u001b[0m\n\u001b[1;32m    763\u001b[0m     _index_shared_docs['take'] = \"\"\"\n",
      "\u001b[0;31mTypeError\u001b[0m: Cannot cast Index to dtype <class 'int'>"
     ]
    }
   ],
   "source": [
    "# Création d'une table à partir du fichiers csv des montants agrégés des dépenses de l'enquêtes BdF.\n",
    "# Ces montants sont calculés dans compute_depenses_carburants\n",
    "\n",
    "products = ['transports', 'carburants', 'essence', 'diesel']\n",
    "depenses_bdf = pd.DataFrame()\n",
    "for product in products:\n",
    "    depenses = pd.DataFrame.from_csv(os.path.join(\n",
    "        assets_directory, 'depenses', 'depenses_{}_totales_bdf.csv'.format(product)),\n",
    "        sep = ',',\n",
    "        header = -1\n",
    "        )\n",
    "    depenses.rename(columns = {1: '{} bdf'.format(product)}, inplace = True)\n",
    "    depenses.index = depenses.index.str.replace('en ', '')\n",
    "    depenses = depenses.sort_index()\n",
    "    depenses_bdf = concat([depenses, depenses_bdf], axis = 1)\n",
    "\n",
    "depenses_bdf\n",
    "depenses_bdf.index = depenses_bdf.index.astype(int)\n",
    "depenses_bdf.dropna(inplace = True)\n",
    "depenses_bdf\n",
    "# TODO améliorer cela (virer la 1ère ligne)"
   ]
  },
  {
   "cell_type": "code",
   "execution_count": 3,
   "metadata": {},
   "outputs": [
    {
     "ename": "NameError",
     "evalue": "name 'assets_directory' is not defined",
     "output_type": "error",
     "traceback": [
      "\u001b[0;31m---------------------------------------------------------------------------\u001b[0m",
      "\u001b[0;31mNameError\u001b[0m                                 Traceback (most recent call last)",
      "\u001b[0;32m<ipython-input-3-9a8f8e192cfe>\u001b[0m in \u001b[0;36m<module>\u001b[0;34m()\u001b[0m\n\u001b[1;32m      2\u001b[0m \u001b[0;34m\u001b[0m\u001b[0m\n\u001b[1;32m      3\u001b[0m parametres_fiscalite_file_path = os.path.join(\n\u001b[0;32m----> 4\u001b[0;31m     \u001b[0massets_directory\u001b[0m\u001b[0;34m,\u001b[0m\u001b[0;34m\u001b[0m\u001b[0;34m\u001b[0m\u001b[0m\n\u001b[0m\u001b[1;32m      5\u001b[0m     \u001b[0;34m'legislation'\u001b[0m\u001b[0;34m,\u001b[0m\u001b[0;34m\u001b[0m\u001b[0;34m\u001b[0m\u001b[0m\n\u001b[1;32m      6\u001b[0m     \u001b[0;34m'Parametres fiscalite indirecte.xls'\u001b[0m\u001b[0;34m\u001b[0m\u001b[0;34m\u001b[0m\u001b[0m\n",
      "\u001b[0;31mNameError\u001b[0m: name 'assets_directory' is not defined"
     ]
    }
   ],
   "source": [
    "# Import des fichiers csv donnant les montants agrégés des mêmes postes d'après la comptabilité nationale\n",
    "\n",
    "parametres_fiscalite_file_path = os.path.join(\n",
    "    assets_directory,\n",
    "    'legislation',\n",
    "    'Parametres fiscalite indirecte.xls'\n",
    "    )\n",
    "masses_cn_data_frame = pd.read_excel(parametres_fiscalite_file_path, sheetname = \"consommation_CN\")\n",
    "\n",
    "masses_cn_carburants = masses_cn_data_frame[masses_cn_data_frame['Fonction'] == 'Carburants et lubrifiants'].transpose()\n",
    "masses_cn_carburants.rename(columns = {76: 'carburants agregat'}, inplace = True)\n",
    "\n",
    "masses_cn_transports = masses_cn_data_frame[masses_cn_data_frame['Fonction'] == 'Transports'].transpose()\n",
    "masses_cn_transports.rename(columns = {69: 'transports agregat'}, inplace = True)\n",
    "\n",
    "comparaison_bdf_agregats = concat([depenses_bdf, masses_cn_carburants, masses_cn_transports], axis = 1).dropna()\n",
    "comparaison_bdf_agregats"
   ]
  },
  {
   "cell_type": "markdown",
   "metadata": {},
   "source": [
    "## Comparaison des dépenses agrégées de carburant"
   ]
  },
  {
   "cell_type": "code",
   "execution_count": 4,
   "metadata": {},
   "outputs": [
    {
     "ename": "NameError",
     "evalue": "name 'graph_builder_line' is not defined",
     "output_type": "error",
     "traceback": [
      "\u001b[0;31m---------------------------------------------------------------------------\u001b[0m",
      "\u001b[0;31mNameError\u001b[0m                                 Traceback (most recent call last)",
      "\u001b[0;32m<ipython-input-4-c482e6494039>\u001b[0m in \u001b[0;36m<module>\u001b[0;34m()\u001b[0m\n\u001b[0;32m----> 1\u001b[0;31m \u001b[0mgraph_builder_line\u001b[0m\u001b[0;34m(\u001b[0m\u001b[0mcomparaison_bdf_agregats\u001b[0m\u001b[0;34m[\u001b[0m\u001b[0;34m[\u001b[0m\u001b[0;34m'carburants agregat'\u001b[0m\u001b[0;34m]\u001b[0m \u001b[0;34m+\u001b[0m \u001b[0;34m[\u001b[0m\u001b[0;34m'carburants bdf'\u001b[0m\u001b[0;34m]\u001b[0m\u001b[0;34m]\u001b[0m\u001b[0;34m)\u001b[0m\u001b[0;34m\u001b[0m\u001b[0;34m\u001b[0m\u001b[0m\n\u001b[0m",
      "\u001b[0;31mNameError\u001b[0m: name 'graph_builder_line' is not defined"
     ]
    }
   ],
   "source": [
    "graph_builder_line(comparaison_bdf_agregats[['carburants agregat'] + ['carburants bdf']])"
   ]
  },
  {
   "cell_type": "markdown",
   "metadata": {},
   "source": [
    "## Comparaison des dépenses agrégées de transports"
   ]
  },
  {
   "cell_type": "code",
   "execution_count": null,
   "metadata": {},
   "outputs": [],
   "source": [
    "graph_builder_line(comparaison_bdf_agregats[['transports agregat'] + ['transports bdf']])"
   ]
  },
  {
   "cell_type": "markdown",
   "metadata": {},
   "source": [
    "## Dépenses issues du compte des Transports"
   ]
  },
  {
   "cell_type": "code",
   "execution_count": null,
   "metadata": {},
   "outputs": [],
   "source": [
    "comparaison_vehicules = g2_1[g2_1['categorie'] == u'Voitures particulières']\n",
    "del comparaison_vehicules['categorie']\n",
    "comparaison_vehicules = comparaison_vehicules.set_index('index')\n",
    "comparaison_vehicules = comparaison_vehicules.transpose()\n",
    "comparaison_vehicules.rename(columns = {'Total': 'total agregats', 'dont essence': 'essence agregats',\n",
    "    'dont Diesel': 'diesel agregats'}, inplace = True)\n",
    "comparaison_vehicules['diesel bdf'] = 0\n",
    "comparaison_vehicules['essence bdf'] = 0\n",
    "comparaison_vehicules['total bdf'] = 0"
   ]
  },
  {
   "cell_type": "code",
   "execution_count": null,
   "metadata": {},
   "outputs": [],
   "source": [
    "for year in [2000, 2005, 2011]:\n",
    "    aggregates_data_frame = get_input_data_frame(year)\n",
    "    df_nombre_vehicules_bdf = aggregates_data_frame[['veh_diesel', 'veh_essence', 'pondmen']]\n",
    "    nombre_vehicules_diesel_bdf = (\n",
    "        df_nombre_vehicules_bdf['veh_diesel'] * df_nombre_vehicules_bdf['pondmen']\n",
    "        ).sum() / 1000\n",
    "    comparaison_vehicules.loc[comparaison_vehicules.index == year, 'diesel bdf'] = \\\n",
    "        nombre_vehicules_diesel_bdf\n",
    "\n",
    "    nombre_vehicules_essence_bdf = (\n",
    "        df_nombre_vehicules_bdf['veh_essence'] * df_nombre_vehicules_bdf['pondmen']\n",
    "        ).sum() / 1000\n",
    "    comparaison_vehicules.loc[comparaison_vehicules.index == year, 'essence bdf'] = \\\n",
    "        nombre_vehicules_essence_bdf\n",
    "\n",
    "    nombre_vehicules_total_bdf = (\n",
    "        (df_nombre_vehicules_bdf['veh_essence'] + df_nombre_vehicules_bdf['veh_diesel']) *\n",
    "        df_nombre_vehicules_bdf['pondmen']\n",
    "        ).sum() / 1000\n",
    "    comparaison_vehicules.loc[comparaison_vehicules.index == year, 'total bdf'] = \\\n",
    "        nombre_vehicules_total_bdf\n",
    "\n",
    "comparaison_vehicules = comparaison_vehicules[comparaison_vehicules['total bdf'] != 0]\n"
   ]
  },
  {
   "cell_type": "code",
   "execution_count": null,
   "metadata": {},
   "outputs": [],
   "source": [
    "print('Comparaison nombre de véhicules tous types')\n",
    "graph_builder_line(comparaison_vehicules[['total bdf'] + ['total agregats']])\n",
    "print('Comparaison nombre de véhicules diesels')\n",
    "graph_builder_line(comparaison_vehicules[['diesel bdf'] + ['diesel agregats']])\n",
    "print('Comparaison nombre de véhicules essences')\n",
    "graph_builder_line(comparaison_vehicules[['essence bdf'] + ['essence agregats']])"
   ]
  }
 ],
 "metadata": {
  "kernelspec": {
   "display_name": "indirect_taxation",
   "language": "python",
   "name": "indirect_taxation"
  },
  "language_info": {
   "codemirror_mode": {
    "name": "ipython",
    "version": 3
   },
   "file_extension": ".py",
   "mimetype": "text/x-python",
   "name": "python",
   "nbconvert_exporter": "python",
   "pygments_lexer": "ipython3",
   "version": "3.7.3"
  }
 },
 "nbformat": 4,
 "nbformat_minor": 1
}
