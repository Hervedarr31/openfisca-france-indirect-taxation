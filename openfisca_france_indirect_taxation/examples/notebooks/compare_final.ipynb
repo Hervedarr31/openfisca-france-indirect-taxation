{
 "cells": [
  {
   "cell_type": "markdown",
   "metadata": {},
   "source": [
    "# Qualité des calages\n",
    "\n",
    "Les dépenses ou quantités agrégées de Budget des Familles après calage, avec celles de la comptabilité nationale. Le calage est effectué sur les dépenses en carburants."
   ]
  },
  {
   "cell_type": "code",
   "execution_count": 29,
   "metadata": {
    "collapsed": false
   },
   "outputs": [],
   "source": [
    "# Import de modules généraux\n",
    "from __future__ import division\n",
    "\n",
    "import pkg_resources\n",
    "import os\n",
    "import pandas as pd\n",
    "from pandas import concat\n",
    "import seaborn\n",
    "\n",
    "# modules spécifiques\n",
    "from openfisca_france_indirect_taxation.examples.utils_example import graph_builder_line\n",
    "\n",
    "# from ipp_macro_series_parser.agregats_transports.transports_cleaner import g2_1\n",
    "from openfisca_france_indirect_taxation.examples.utils_example import get_input_data_frame, graph_builder_line\n",
    "\n",
    "\n",
    "# palette de couleurs\n",
    "seaborn.set_palette(seaborn.color_palette(\"Set2\", 12))\n",
    "%matplotlib inline\n",
    "\n",
    "# un chemin utile\n",
    "assets_directory = os.path.join(\n",
    "    pkg_resources.get_distribution('openfisca_france_indirect_taxation').location,\n",
    "    'openfisca_france_indirect_taxation', \n",
    "    'assets'\n",
    "    )"
   ]
  },
  {
   "cell_type": "markdown",
   "metadata": {},
   "source": [
    "## Transport et carburants\n",
    "### Dépenses agrégées issue de l'enquête Budget des familles"
   ]
  },
  {
   "cell_type": "code",
   "execution_count": 30,
   "metadata": {
    "collapsed": false
   },
   "outputs": [
    {
     "data": {
      "text/html": [
       "<div>\n",
       "<table border=\"1\" class=\"dataframe\">\n",
       "  <thead>\n",
       "    <tr style=\"text-align: right;\">\n",
       "      <th></th>\n",
       "      <th>diesel bdf</th>\n",
       "      <th>essence bdf</th>\n",
       "      <th>carburants bdf</th>\n",
       "      <th>transports bdf</th>\n",
       "    </tr>\n",
       "    <tr>\n",
       "      <th>0</th>\n",
       "      <th></th>\n",
       "      <th></th>\n",
       "      <th></th>\n",
       "      <th></th>\n",
       "    </tr>\n",
       "  </thead>\n",
       "  <tbody>\n",
       "    <tr>\n",
       "      <th>2000</th>\n",
       "      <td>12987.594644</td>\n",
       "      <td>18087.405340</td>\n",
       "      <td>31074.999984</td>\n",
       "      <td>90351.335559</td>\n",
       "    </tr>\n",
       "    <tr>\n",
       "      <th>2005</th>\n",
       "      <td>18882.886691</td>\n",
       "      <td>15723.113224</td>\n",
       "      <td>34605.999915</td>\n",
       "      <td>105711.877297</td>\n",
       "    </tr>\n",
       "    <tr>\n",
       "      <th>2011</th>\n",
       "      <td>27636.350100</td>\n",
       "      <td>14116.600743</td>\n",
       "      <td>41752.950842</td>\n",
       "      <td>131062.850158</td>\n",
       "    </tr>\n",
       "  </tbody>\n",
       "</table>\n",
       "</div>"
      ],
      "text/plain": [
       "        diesel bdf   essence bdf  carburants bdf  transports bdf\n",
       "0                                                               \n",
       "2000  12987.594644  18087.405340    31074.999984    90351.335559\n",
       "2005  18882.886691  15723.113224    34605.999915   105711.877297\n",
       "2011  27636.350100  14116.600743    41752.950842   131062.850158"
      ]
     },
     "execution_count": 30,
     "metadata": {},
     "output_type": "execute_result"
    }
   ],
   "source": [
    "# Création d'une table à partir du fichiers csv des montants agrégés des dépenses de l'enquêtes BdF.\n",
    "# Ces montants sont calculés dans compute_depenses_carburants\n",
    "\n",
    "products = ['transports', 'carburants', 'essence', 'diesel']\n",
    "depenses_bdf = pd.DataFrame()\n",
    "for product in products:\n",
    "    depenses = pd.DataFrame.from_csv(os.path.join(\n",
    "        assets_directory, 'depenses', 'depenses_{}_totales_bdf.csv'.format(product)),\n",
    "        sep = ',',\n",
    "        header = -1\n",
    "        )\n",
    "    depenses.rename(columns = {1: '{} bdf'.format(product)}, inplace = True)\n",
    "    depenses.index = depenses.index.str.replace('en ', '')\n",
    "    depenses = depenses.sort_index()\n",
    "    depenses_bdf = concat([depenses, depenses_bdf], axis = 1)\n",
    "\n",
    "depenses_bdf\n",
    "depenses_bdf.index = depenses_bdf.index.astype(int)\n",
    "depenses_bdf.dropna(inplace = True)\n",
    "depenses_bdf\n",
    "# TODO améliorer cela (virer la 1ère ligne)"
   ]
  },
  {
   "cell_type": "code",
   "execution_count": 36,
   "metadata": {
    "collapsed": false
   },
   "outputs": [
    {
     "data": {
      "text/html": [
       "<div>\n",
       "<table border=\"1\" class=\"dataframe\">\n",
       "  <thead>\n",
       "    <tr style=\"text-align: right;\">\n",
       "      <th></th>\n",
       "      <th>diesel bdf</th>\n",
       "      <th>essence bdf</th>\n",
       "      <th>carburants bdf</th>\n",
       "      <th>transports bdf</th>\n",
       "      <th>carburants agregat</th>\n",
       "      <th>transports agregat</th>\n",
       "    </tr>\n",
       "  </thead>\n",
       "  <tbody>\n",
       "    <tr>\n",
       "      <th>2000</th>\n",
       "      <td>12987.594644</td>\n",
       "      <td>18087.405340</td>\n",
       "      <td>31074.999984</td>\n",
       "      <td>90351.335559</td>\n",
       "      <td>31075.7</td>\n",
       "      <td>116130</td>\n",
       "    </tr>\n",
       "    <tr>\n",
       "      <th>2005</th>\n",
       "      <td>18882.886691</td>\n",
       "      <td>15723.113224</td>\n",
       "      <td>34605.999915</td>\n",
       "      <td>105711.877297</td>\n",
       "      <td>34606</td>\n",
       "      <td>136837</td>\n",
       "    </tr>\n",
       "    <tr>\n",
       "      <th>2011</th>\n",
       "      <td>27636.350100</td>\n",
       "      <td>14116.600743</td>\n",
       "      <td>41752.950842</td>\n",
       "      <td>131062.850158</td>\n",
       "      <td>41765.9</td>\n",
       "      <td>160316</td>\n",
       "    </tr>\n",
       "  </tbody>\n",
       "</table>\n",
       "</div>"
      ],
      "text/plain": [
       "        diesel bdf   essence bdf  carburants bdf  transports bdf  \\\n",
       "2000  12987.594644  18087.405340    31074.999984    90351.335559   \n",
       "2005  18882.886691  15723.113224    34605.999915   105711.877297   \n",
       "2011  27636.350100  14116.600743    41752.950842   131062.850158   \n",
       "\n",
       "     carburants agregat transports agregat  \n",
       "2000            31075.7             116130  \n",
       "2005              34606             136837  \n",
       "2011            41765.9             160316  "
      ]
     },
     "execution_count": 36,
     "metadata": {},
     "output_type": "execute_result"
    }
   ],
   "source": [
    "# Import des fichiers csv donnant les montants agrégés des mêmes postes d'après la comptabilité nationale\n",
    "\n",
    "parametres_fiscalite_file_path = os.path.join(\n",
    "    assets_directory,\n",
    "    'legislation',\n",
    "    'Parametres fiscalite indirecte.xls'\n",
    "    )\n",
    "masses_cn_data_frame = pd.read_excel(parametres_fiscalite_file_path, sheetname = \"consommation_CN\")\n",
    "\n",
    "masses_cn_carburants = masses_cn_data_frame[masses_cn_data_frame['Fonction'] == 'Carburants et lubrifiants'].transpose()\n",
    "masses_cn_carburants.rename(columns = {76: 'carburants agregat'}, inplace = True)\n",
    "\n",
    "masses_cn_transports = masses_cn_data_frame[masses_cn_data_frame['Fonction'] == 'Transports'].transpose()\n",
    "masses_cn_transports.rename(columns = {69: 'transports agregat'}, inplace = True)\n",
    "\n",
    "comparaison_bdf_agregats = concat([depenses_bdf, masses_cn_carburants, masses_cn_transports], axis = 1).dropna()\n",
    "comparaison_bdf_agregats"
   ]
  },
  {
   "cell_type": "markdown",
   "metadata": {
    "collapsed": false
   },
   "source": [
    "## Comparaison des dépenses agrégées de carburant"
   ]
  },
  {
   "cell_type": "code",
   "execution_count": 37,
   "metadata": {
    "collapsed": false
   },
   "outputs": [
    {
     "data": {
      "image/png": "[encoded data removed]",
      "text/plain": [
       "<matplotlib.figure.Figure at 0x7f92464e2d90>"
      ]
     },
     "metadata": {},
     "output_type": "display_data"
    }
   ],
   "source": [
    "graph_builder_line(comparaison_bdf_agregats[['carburants agregat'] + ['carburants bdf']])"
   ]
  },
  {
   "cell_type": "markdown",
   "metadata": {},
   "source": [
    "## Comparaison des dépenses agrégées de transports"
   ]
  },
  {
   "cell_type": "code",
   "execution_count": 38,
   "metadata": {
    "collapsed": false
   },
   "outputs": [
    {
     "data": {
      "image/png": "[encoded data removed]",
      "text/plain": [
       "<matplotlib.figure.Figure at 0x7f92464e27d0>"
      ]
     },
     "metadata": {},
     "output_type": "display_data"
    }
   ],
   "source": [
    "graph_builder_line(comparaison_bdf_agregats[['transports agregat'] + ['transports bdf']])"
   ]
  },
  {
   "cell_type": "markdown",
   "metadata": {},
   "source": [
    "## Dépenses issues du compte des Transports"
   ]
  },
  {
   "cell_type": "code",
   "execution_count": 43,
   "metadata": {
    "collapsed": false
   },
   "outputs": [
    {
     "ename": "NameError",
     "evalue": "name 'g2_1' is not defined",
     "output_type": "error",
     "traceback": [
      "\u001b[1;31m---------------------------------------------------------------------------\u001b[0m",
      "\u001b[1;31mNameError\u001b[0m                                 Traceback (most recent call last)",
      "\u001b[1;32m<ipython-input-43-0a97e46c55b3>\u001b[0m in \u001b[0;36m<module>\u001b[1;34m()\u001b[0m\n\u001b[1;32m----> 1\u001b[1;33m \u001b[0mcomparaison_vehicules\u001b[0m \u001b[1;33m=\u001b[0m \u001b[0mg2_1\u001b[0m\u001b[1;33m[\u001b[0m\u001b[0mg2_1\u001b[0m\u001b[1;33m[\u001b[0m\u001b[1;34m'categorie'\u001b[0m\u001b[1;33m]\u001b[0m \u001b[1;33m==\u001b[0m \u001b[1;34mu'Voitures particulières'\u001b[0m\u001b[1;33m]\u001b[0m\u001b[1;33m\u001b[0m\u001b[0m\n\u001b[0m\u001b[0;32m      2\u001b[0m \u001b[1;32mdel\u001b[0m \u001b[0mcomparaison_vehicules\u001b[0m\u001b[1;33m[\u001b[0m\u001b[1;34m'categorie'\u001b[0m\u001b[1;33m]\u001b[0m\u001b[1;33m\u001b[0m\u001b[0m\n\u001b[0;32m      3\u001b[0m \u001b[0mcomparaison_vehicules\u001b[0m \u001b[1;33m=\u001b[0m \u001b[0mcomparaison_vehicules\u001b[0m\u001b[1;33m.\u001b[0m\u001b[0mset_index\u001b[0m\u001b[1;33m(\u001b[0m\u001b[1;34m'index'\u001b[0m\u001b[1;33m)\u001b[0m\u001b[1;33m\u001b[0m\u001b[0m\n\u001b[0;32m      4\u001b[0m \u001b[0mcomparaison_vehicules\u001b[0m \u001b[1;33m=\u001b[0m \u001b[0mcomparaison_vehicules\u001b[0m\u001b[1;33m.\u001b[0m\u001b[0mtranspose\u001b[0m\u001b[1;33m(\u001b[0m\u001b[1;33m)\u001b[0m\u001b[1;33m\u001b[0m\u001b[0m\n\u001b[0;32m      5\u001b[0m comparaison_vehicules.rename(columns = {'Total': 'total agregats', 'dont essence': 'essence agregats',\n",
      "\u001b[1;31mNameError\u001b[0m: name 'g2_1' is not defined"
     ]
    }
   ],
   "source": [
    "comparaison_vehicules = g2_1[g2_1['categorie'] == u'Voitures particulières']\n",
    "del comparaison_vehicules['categorie']\n",
    "comparaison_vehicules = comparaison_vehicules.set_index('index')\n",
    "comparaison_vehicules = comparaison_vehicules.transpose()\n",
    "comparaison_vehicules.rename(columns = {'Total': 'total agregats', 'dont essence': 'essence agregats',\n",
    "    'dont Diesel': 'diesel agregats'}, inplace = True)\n",
    "comparaison_vehicules['diesel bdf'] = 0\n",
    "comparaison_vehicules['essence bdf'] = 0\n",
    "comparaison_vehicules['total bdf'] = 0"
   ]
  },
  {
   "cell_type": "code",
   "execution_count": 44,
   "metadata": {
    "collapsed": false
   },
   "outputs": [
    {
     "ename": "NameError",
     "evalue": "name 'comparaison_vehicules' is not defined",
     "output_type": "error",
     "traceback": [
      "\u001b[1;31m---------------------------------------------------------------------------\u001b[0m",
      "\u001b[1;31mNameError\u001b[0m                                 Traceback (most recent call last)",
      "\u001b[1;32m<ipython-input-44-128a88d22ca3>\u001b[0m in \u001b[0;36m<module>\u001b[1;34m()\u001b[0m\n\u001b[0;32m      5\u001b[0m         \u001b[0mdf_nombre_vehicules_bdf\u001b[0m\u001b[1;33m[\u001b[0m\u001b[1;34m'veh_diesel'\u001b[0m\u001b[1;33m]\u001b[0m \u001b[1;33m*\u001b[0m \u001b[0mdf_nombre_vehicules_bdf\u001b[0m\u001b[1;33m[\u001b[0m\u001b[1;34m'pondmen'\u001b[0m\u001b[1;33m]\u001b[0m\u001b[1;33m\u001b[0m\u001b[0m\n\u001b[0;32m      6\u001b[0m         ).sum() / 1000\n\u001b[1;32m----> 7\u001b[1;33m     \u001b[0mcomparaison_vehicules\u001b[0m\u001b[1;33m.\u001b[0m\u001b[0mloc\u001b[0m\u001b[1;33m[\u001b[0m\u001b[0mcomparaison_vehicules\u001b[0m\u001b[1;33m.\u001b[0m\u001b[0mindex\u001b[0m \u001b[1;33m==\u001b[0m \u001b[0myear\u001b[0m\u001b[1;33m,\u001b[0m \u001b[1;34m'diesel bdf'\u001b[0m\u001b[1;33m]\u001b[0m \u001b[1;33m=\u001b[0m         \u001b[0mnombre_vehicules_diesel_bdf\u001b[0m\u001b[1;33m\u001b[0m\u001b[0m\n\u001b[0m\u001b[0;32m      8\u001b[0m \u001b[1;33m\u001b[0m\u001b[0m\n\u001b[0;32m      9\u001b[0m     nombre_vehicules_essence_bdf = (\n",
      "\u001b[1;31mNameError\u001b[0m: name 'comparaison_vehicules' is not defined"
     ]
    }
   ],
   "source": [
    "for year in [2000, 2005, 2011]:\n",
    "    aggregates_data_frame = get_input_data_frame(year)\n",
    "    df_nombre_vehicules_bdf = aggregates_data_frame[['veh_diesel', 'veh_essence', 'pondmen']]\n",
    "    nombre_vehicules_diesel_bdf = (\n",
    "        df_nombre_vehicules_bdf['veh_diesel'] * df_nombre_vehicules_bdf['pondmen']\n",
    "        ).sum() / 1000\n",
    "    comparaison_vehicules.loc[comparaison_vehicules.index == year, 'diesel bdf'] = \\\n",
    "        nombre_vehicules_diesel_bdf\n",
    "\n",
    "    nombre_vehicules_essence_bdf = (\n",
    "        df_nombre_vehicules_bdf['veh_essence'] * df_nombre_vehicules_bdf['pondmen']\n",
    "        ).sum() / 1000\n",
    "    comparaison_vehicules.loc[comparaison_vehicules.index == year, 'essence bdf'] = \\\n",
    "        nombre_vehicules_essence_bdf\n",
    "\n",
    "    nombre_vehicules_total_bdf = (\n",
    "        (df_nombre_vehicules_bdf['veh_essence'] + df_nombre_vehicules_bdf['veh_diesel']) *\n",
    "        df_nombre_vehicules_bdf['pondmen']\n",
    "        ).sum() / 1000\n",
    "    comparaison_vehicules.loc[comparaison_vehicules.index == year, 'total bdf'] = \\\n",
    "        nombre_vehicules_total_bdf\n",
    "\n",
    "comparaison_vehicules = comparaison_vehicules[comparaison_vehicules['total bdf'] != 0]\n"
   ]
  },
  {
   "cell_type": "code",
   "execution_count": 45,
   "metadata": {
    "collapsed": false
   },
   "outputs": [
    {
     "name": "stdout",
     "output_type": "stream",
     "text": [
      "Comparaison nombre de véhicules tous types\n"
     ]
    },
    {
     "ename": "NameError",
     "evalue": "name 'comparaison_vehicules' is not defined",
     "output_type": "error",
     "traceback": [
      "\u001b[1;31m---------------------------------------------------------------------------\u001b[0m",
      "\u001b[1;31mNameError\u001b[0m                                 Traceback (most recent call last)",
      "\u001b[1;32m<ipython-input-45-b367933273c2>\u001b[0m in \u001b[0;36m<module>\u001b[1;34m()\u001b[0m\n\u001b[0;32m      1\u001b[0m \u001b[1;32mprint\u001b[0m \u001b[1;34m'Comparaison nombre de véhicules tous types'\u001b[0m\u001b[1;33m\u001b[0m\u001b[0m\n\u001b[1;32m----> 2\u001b[1;33m \u001b[0mgraph_builder_line\u001b[0m\u001b[1;33m(\u001b[0m\u001b[0mcomparaison_vehicules\u001b[0m\u001b[1;33m[\u001b[0m\u001b[1;33m[\u001b[0m\u001b[1;34m'total bdf'\u001b[0m\u001b[1;33m]\u001b[0m \u001b[1;33m+\u001b[0m \u001b[1;33m[\u001b[0m\u001b[1;34m'total agregats'\u001b[0m\u001b[1;33m]\u001b[0m\u001b[1;33m]\u001b[0m\u001b[1;33m)\u001b[0m\u001b[1;33m\u001b[0m\u001b[0m\n\u001b[0m\u001b[0;32m      3\u001b[0m \u001b[1;32mprint\u001b[0m \u001b[1;34m'Comparaison nombre de véhicules diesels'\u001b[0m\u001b[1;33m\u001b[0m\u001b[0m\n\u001b[0;32m      4\u001b[0m \u001b[0mgraph_builder_line\u001b[0m\u001b[1;33m(\u001b[0m\u001b[0mcomparaison_vehicules\u001b[0m\u001b[1;33m[\u001b[0m\u001b[1;33m[\u001b[0m\u001b[1;34m'diesel bdf'\u001b[0m\u001b[1;33m]\u001b[0m \u001b[1;33m+\u001b[0m \u001b[1;33m[\u001b[0m\u001b[1;34m'diesel agregats'\u001b[0m\u001b[1;33m]\u001b[0m\u001b[1;33m]\u001b[0m\u001b[1;33m)\u001b[0m\u001b[1;33m\u001b[0m\u001b[0m\n\u001b[0;32m      5\u001b[0m \u001b[1;32mprint\u001b[0m \u001b[1;34m'Comparaison nombre de véhicules essences'\u001b[0m\u001b[1;33m\u001b[0m\u001b[0m\n",
      "\u001b[1;31mNameError\u001b[0m: name 'comparaison_vehicules' is not defined"
     ]
    }
   ],
   "source": [
    "print 'Comparaison nombre de véhicules tous types'\n",
    "graph_builder_line(comparaison_vehicules[['total bdf'] + ['total agregats']])\n",
    "print 'Comparaison nombre de véhicules diesels'\n",
    "graph_builder_line(comparaison_vehicules[['diesel bdf'] + ['diesel agregats']])\n",
    "print 'Comparaison nombre de véhicules essences'\n",
    "graph_builder_line(comparaison_vehicules[['essence bdf'] + ['essence agregats']])"
   ]
  }
 ],
 "metadata": {
  "kernelspec": {
   "display_name": "Python 2",
   "language": "python",
   "name": "python2"
  },
  "language_info": {
   "codemirror_mode": {
    "name": "ipython",
    "version": 2
   },
   "file_extension": ".py",
   "mimetype": "text/x-python",
   "name": "python",
   "nbconvert_exporter": "python",
   "pygments_lexer": "ipython2",
   "version": "2.7.11"
  }
 },
 "nbformat": 4,
 "nbformat_minor": 0
}
