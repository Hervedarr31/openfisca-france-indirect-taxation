{
 "cells": [
  {
   "cell_type": "markdown",
   "metadata": {},
   "source": [
    "# TVA sur les biens alimentaires"
   ]
  },
  {
   "cell_type": "code",
   "execution_count": 1,
   "metadata": {
    "collapsed": false
   },
   "outputs": [],
   "source": [
    "from __future__ import division\n",
    "\n",
    "import os\n",
    "import pandas as pd\n",
    "import pkg_resources\n",
    "import seaborn\n",
    "\n",
    "from openfisca_france_indirect_taxation.surveys import SurveyScenario"
   ]
  },
  {
   "cell_type": "code",
   "execution_count": 2,
   "metadata": {
    "collapsed": false
   },
   "outputs": [],
   "source": [
    "year = 2011\n",
    "survey_scenario = SurveyScenario.create(year = year)"
   ]
  },
  {
   "cell_type": "code",
   "execution_count": 12,
   "metadata": {
    "collapsed": false
   },
   "outputs": [
    {
     "name": "stdout",
     "output_type": "stream",
     "text": [
      "[u'poste_01_1_1_1_1', u'poste_01_1_1_3_3', u'poste_01_1_1_4_1', u'poste_01_1_1_4_2', u'poste_01_1_1_4_3', u'poste_01_1_2_1_1', u'poste_01_1_2_3_1', u'poste_01_1_2_4_1', u'poste_01_1_2_4_2', u'poste_01_1_2_5_1', u'poste_01_1_2_6_1', u'poste_01_1_2_6_3', u'poste_01_1_3_1_1', u'poste_01_1_3_1_2', u'poste_01_1_3_2_1_a', u'poste_01_1_3_2_1_b', u'poste_01_1_3_2_2', u'poste_01_1_4_1_1_a', u'poste_01_1_4_1_1_b', u'poste_01_1_4_1_1_c', u'poste_01_1_4_2_1', u'poste_01_1_4_2_2', u'poste_01_1_4_3_1', u'poste_01_1_4_4_1', u'poste_01_1_5_1_1', u'poste_01_1_5_2_1_a', u'poste_01_1_5_2_1_b', u'poste_01_1_5_2_2_a', u'poste_01_1_5_2_2_b', u'poste_01_1_6_1_1_a', u'poste_01_1_6_1_1_b', u'poste_01_1_6_1_1_c', u'poste_01_1_6_1_1_d', u'poste_01_1_6_2_1_a', u'poste_01_1_6_2_1_b', u'poste_01_1_6_2_1_c', u'poste_01_1_6_2_1_d', u'poste_01_1_6_2_1_e', u'poste_01_1_7_1_1_a', u'poste_01_1_7_1_1_b', u'poste_01_1_7_1_1_c', u'poste_01_1_7_1_1_d', u'poste_01_1_7_2_1_a', u'poste_01_1_7_2_1_b', u'poste_01_1_7_2_1_c', u'poste_01_1_7_2_2', u'poste_01_1_7_2_3', u'poste_01_1_8_1_1_a', u'poste_01_1_8_1_1_b', u'poste_01_1_8_1_1_c', u'poste_01_1_8_1_2', u'poste_01_1_8_1_3', u'poste_01_1_8_2_1', u'poste_01_1_8_3_1', u'poste_01_1_9_1_1_a', u'poste_01_1_9_1_1_b', u'poste_01_1_9_3_2', u'poste_01_1_9_5', u'poste_01_10_1', u'poste_01_10_2', u'poste_01_2_1_1_1', u'poste_01_2_1_2_1', u'poste_01_2_1_3_1', u'poste_01_2_2_1_1', u'poste_01_2_2_2_1', u'poste_01_2_2_2_2', u'poste_01_2_2_2_3']\n"
     ]
    },
    {
     "data": {
      "text/plain": [
       "67"
      ]
     },
     "execution_count": 12,
     "metadata": {},
     "output_type": "execute_result"
    }
   ],
   "source": [
    "a = [\n",
    "    key for key in survey_scenario.tax_benefit_system.column_by_name.keys() \\\n",
    "    if key.startswith('poste_01')\n",
    "    ]\n",
    "print a\n",
    "len(a)\n"
   ]
  },
  {
   "cell_type": "code",
   "execution_count": 5,
   "metadata": {
    "collapsed": false
   },
   "outputs": [],
   "source": [
    "alimentation_hors_domicile = [\n",
    "    key for key in survey_scenario.tax_benefit_system.column_by_name.keys() \\\n",
    "    if key.startswith('poste_11_1')\n",
    "    ]\n",
    "alimentation = [\n",
    "    'poste_agrege_01',\n",
    "    'depenses_biere',\n",
    "    'depenses_vin',\n",
    "    'depenses_alcools_forts'\n",
    "    ] + alimentation_hors_domicile\n",
    "\n",
    "variables = alimentation + [\n",
    "    'poste_agrege_02',\n",
    "    'poste_agrege_11',\n",
    "    'tva_taux_reduit',\n",
    "    'tva_taux_plein',\n",
    "    ]"
   ]
  },
  {
   "cell_type": "code",
   "execution_count": 6,
   "metadata": {
    "collapsed": false
   },
   "outputs": [
    {
     "data": {
      "text/plain": [
       "[u'poste_11_1_1_1_1',\n",
       " u'poste_11_1_1_1_2',\n",
       " u'poste_11_1_2_1_1',\n",
       " u'poste_11_1_3_1',\n",
       " u'poste_11_1_3_2']"
      ]
     },
     "execution_count": 6,
     "metadata": {},
     "output_type": "execute_result"
    }
   ],
   "source": [
    "alimentation_hors_domicile"
   ]
  },
  {
   "cell_type": "code",
   "execution_count": 7,
   "metadata": {
    "collapsed": false
   },
   "outputs": [],
   "source": [
    "pivot_table = pd.DataFrame()\n",
    "aggregates = dict()\n",
    "for variable in variables:\n",
    "    pivot_table = pd.concat([\n",
    "        pivot_table,\n",
    "        survey_scenario.compute_pivot_table(values = [variable], columns = ['niveau_vie_decile'])\n",
    "        ])\n",
    "    aggregates[variable] = survey_scenario.compute_aggregate(variable) / 1e9\n"
   ]
  },
  {
   "cell_type": "code",
   "execution_count": 13,
   "metadata": {
    "collapsed": false
   },
   "outputs": [
    {
     "data": {
      "text/plain": [
       "175.99479372799999"
      ]
     },
     "execution_count": 13,
     "metadata": {},
     "output_type": "execute_result"
    }
   ],
   "source": [
    "sum(aggregates[aliment] for aliment in alimentation) "
   ]
  },
  {
   "cell_type": "code",
   "execution_count": 15,
   "metadata": {
    "collapsed": false
   },
   "outputs": [
    {
     "data": {
      "text/plain": [
       "3.0844442480000001"
      ]
     },
     "execution_count": 15,
     "metadata": {},
     "output_type": "execute_result"
    }
   ],
   "source": [
    "survey_scenario.compute_aggregate('poste_01_10_1') /1e9"
   ]
  },
  {
   "cell_type": "code",
   "execution_count": null,
   "metadata": {
    "collapsed": true
   },
   "outputs": [],
   "source": []
  }
 ],
 "metadata": {
  "kernelspec": {
   "display_name": "Python 2",
   "language": "python",
   "name": "python2"
  },
  "language_info": {
   "codemirror_mode": {
    "name": "ipython",
    "version": 2
   },
   "file_extension": ".py",
   "mimetype": "text/x-python",
   "name": "python",
   "nbconvert_exporter": "python",
   "pygments_lexer": "ipython2",
   "version": "2.7.11+"
  }
 },
 "nbformat": 4,
 "nbformat_minor": 0
}
