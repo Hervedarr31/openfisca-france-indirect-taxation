{
 "cells": [
  {
   "cell_type": "markdown",
   "metadata": {},
   "source": [
    "# Nous simulons les montants de TICPE payés par un ménage selon le type de véhicules dont il dispose. Nous prenons un ménage dont les dépenses annuelles en carburants s'élèveraient à 1000 euros. C'est en dessous de la moyenne de nos samples (plutôt autour de 1500 euros)."
   ]
  },
  {
   "cell_type": "markdown",
   "metadata": {},
   "source": [
    "# Import de modules généraux"
   ]
  },
  {
   "cell_type": "code",
   "execution_count": 1,
   "metadata": {},
   "outputs": [],
   "source": [
    "import datetime\n",
    "import seaborn\n",
    "import pandas as pd\n"
   ]
  },
  {
   "cell_type": "markdown",
   "metadata": {},
   "source": [
    "# Import de modules et fonctions spécifiques à OpenFisca"
   ]
  },
  {
   "cell_type": "code",
   "execution_count": 2,
   "metadata": {},
   "outputs": [],
   "source": [
    "from openfisca_france_indirect_taxation.examples.utils_example import graph_builder_line, save_dataframe_to_graph\n",
    "from openfisca_france_indirect_taxation.scenarios import init_single_entity"
   ]
  },
  {
   "cell_type": "code",
   "execution_count": 3,
   "metadata": {},
   "outputs": [],
   "source": [
    "from openfisca_france_indirect_taxation import CountryTaxBenefitSystem as TaxBenefitSystem\n",
    "tax_benefit_system = TaxBenefitSystem()"
   ]
  },
  {
   "cell_type": "markdown",
   "metadata": {},
   "source": [
    "# Import d'une nouvelle palette de couleurs"
   ]
  },
  {
   "cell_type": "code",
   "execution_count": 4,
   "metadata": {},
   "outputs": [],
   "source": [
    "seaborn.set_palette(seaborn.color_palette(\"Set2\", 12))\n",
    "%matplotlib inline"
   ]
  },
  {
   "cell_type": "markdown",
   "metadata": {},
   "source": [
    "# Définition d'un cas type et de son exposition à la TICPE entre 2000 et 2013"
   ]
  },
  {
   "cell_type": "code",
   "execution_count": 5,
   "metadata": {},
   "outputs": [
    {
     "name": "stdout",
     "output_type": "stream",
     "text": [
      "si une essence et une diesel 2000\n",
      "taux_implicite_diesel 1.242242356789368\n",
      "depenses_diesel_corrigees [592.3564]\n",
      "[272.11942]\n",
      "si une essence et une diesel 2001\n",
      "taux_implicite_diesel 1.4066987306681504\n",
      "depenses_diesel_corrigees [597.2261]\n",
      "[291.86832]\n",
      "si une essence et une diesel 2002\n",
      "taux_implicite_diesel 1.514567082839819\n",
      "depenses_diesel_corrigees [593.5677]\n",
      "[298.92645]\n",
      "si une essence et une diesel 2003\n",
      "taux_implicite_diesel 1.4432633283906497\n",
      "depenses_diesel_corrigees [594.92804]\n",
      "[293.83838]\n",
      "si une essence et une diesel 2004\n",
      "taux_implicite_diesel 1.2914173281339743\n",
      "depenses_diesel_corrigees [594.82245]\n",
      "[280.2971]\n",
      "si une essence et une diesel 2005\n",
      "taux_implicite_diesel 0.9439993843724024\n",
      "depenses_diesel_corrigees [591.07074]\n",
      "[239.98488]\n",
      "si une essence et une diesel 2006\n",
      "taux_implicite_diesel 0.906613378789839\n",
      "depenses_diesel_corrigees [600.9666]\n",
      "[238.93439]\n",
      "si une essence et une diesel 2007\n",
      "taux_implicite_diesel 0.9249455525398551\n",
      "depenses_diesel_corrigees [607.1665]\n",
      "[243.93512]\n",
      "si une essence et une diesel 2008\n",
      "taux_implicite_diesel 0.7100409536962826\n",
      "depenses_diesel_corrigees [602.97644]\n",
      "[209.337]\n",
      "si une essence et une diesel 2009\n",
      "taux_implicite_diesel 1.1047620727481027\n",
      "depenses_diesel_corrigees [606.634]\n",
      "[266.23264]\n",
      "si une essence et une diesel 2010\n",
      "taux_implicite_diesel 0.84772173247535\n",
      "depenses_diesel_corrigees [602.8849]\n",
      "[231.27037]\n",
      "si une essence et une diesel 2011\n",
      "taux_implicite_diesel 0.6836647391089924\n",
      "depenses_diesel_corrigees [0.]\n",
      "[0.]\n",
      "si une essence et une diesel 2012\n",
      "taux_implicite_diesel 0.6353379450423817\n",
      "depenses_diesel_corrigees [0.]\n",
      "[0.]\n",
      "si une essence et une diesel 2013\n",
      "taux_implicite_diesel 0.6711929143138056\n",
      "depenses_diesel_corrigees [0.]\n",
      "[0.]\n",
      "si seulement vehicules diesel 2000\n",
      "taux_implicite_diesel 1.242242356789368\n",
      "depenses_diesel_corrigees [1000.]\n",
      "[459.3846]\n",
      "si seulement vehicules diesel 2001\n",
      "taux_implicite_diesel 1.4066987306681504\n",
      "depenses_diesel_corrigees [1000.]\n",
      "[488.70654]\n",
      "si seulement vehicules diesel 2002\n",
      "taux_implicite_diesel 1.514567082839819\n",
      "depenses_diesel_corrigees [1000.]\n",
      "[503.60974]\n",
      "si seulement vehicules diesel 2003\n",
      "taux_implicite_diesel 1.4432633283906497\n",
      "depenses_diesel_corrigees [1000.]\n",
      "[493.90576]\n",
      "si seulement vehicules diesel 2004\n",
      "taux_implicite_diesel 1.2914173281339743\n",
      "depenses_diesel_corrigees [1000.]\n",
      "[471.22815]\n",
      "si seulement vehicules diesel 2005\n",
      "taux_implicite_diesel 0.9439993843724024\n",
      "depenses_diesel_corrigees [1000.]\n",
      "[406.01715]\n",
      "si seulement vehicules diesel 2006\n",
      "taux_implicite_diesel 0.906613378789839\n",
      "depenses_diesel_corrigees [1000.]\n",
      "[397.58344]\n",
      "si seulement vehicules diesel 2007\n",
      "taux_implicite_diesel 0.9249455525398551\n",
      "depenses_diesel_corrigees [1000.]\n",
      "[401.75983]\n",
      "si seulement vehicules diesel 2008\n",
      "taux_implicite_diesel 0.7100409536962826\n",
      "depenses_diesel_corrigees [1000.]\n",
      "[347.1728]\n",
      "si seulement vehicules diesel 2009\n",
      "taux_implicite_diesel 1.1047620727481027\n",
      "depenses_diesel_corrigees [1000.]\n",
      "[438.86862]\n",
      "si seulement vehicules diesel 2010\n",
      "taux_implicite_diesel 0.84772173247535\n",
      "depenses_diesel_corrigees [1000.]\n",
      "[383.60617]\n",
      "si seulement vehicules diesel 2011\n",
      "taux_implicite_diesel 0.6836647391089924\n",
      "depenses_diesel_corrigees [0.]\n",
      "[0.]\n",
      "si seulement vehicules diesel 2012\n",
      "taux_implicite_diesel 0.6353379450423817\n",
      "depenses_diesel_corrigees [0.]\n",
      "[0.]\n",
      "si seulement vehicules diesel 2013\n",
      "taux_implicite_diesel 0.6711929143138056\n",
      "depenses_diesel_corrigees [0.]\n",
      "[0.]\n",
      "si seulement vehicules essence 2000\n",
      "taux_implicite_diesel 1.242242356789368\n",
      "depenses_diesel_corrigees [0.]\n",
      "[0.]\n",
      "si seulement vehicules essence 2001\n",
      "taux_implicite_diesel 1.4066987306681504\n",
      "depenses_diesel_corrigees [0.]\n",
      "[0.]\n",
      "si seulement vehicules essence 2002\n",
      "taux_implicite_diesel 1.514567082839819\n",
      "depenses_diesel_corrigees [0.]\n",
      "[0.]\n",
      "si seulement vehicules essence 2003\n",
      "taux_implicite_diesel 1.4432633283906497\n",
      "depenses_diesel_corrigees [0.]\n",
      "[0.]\n",
      "si seulement vehicules essence 2004\n",
      "taux_implicite_diesel 1.2914173281339743\n",
      "depenses_diesel_corrigees [0.]\n",
      "[0.]\n",
      "si seulement vehicules essence 2005\n",
      "taux_implicite_diesel 0.9439993843724024\n",
      "depenses_diesel_corrigees [0.]\n",
      "[0.]\n",
      "si seulement vehicules essence 2006\n",
      "taux_implicite_diesel 0.906613378789839\n",
      "depenses_diesel_corrigees [0.]\n",
      "[0.]\n",
      "si seulement vehicules essence 2007\n",
      "taux_implicite_diesel 0.9249455525398551\n",
      "depenses_diesel_corrigees [0.]\n",
      "[0.]\n",
      "si seulement vehicules essence 2008\n",
      "taux_implicite_diesel 0.7100409536962826\n",
      "depenses_diesel_corrigees [0.]\n",
      "[0.]\n",
      "si seulement vehicules essence 2009\n",
      "taux_implicite_diesel 1.1047620727481027\n",
      "depenses_diesel_corrigees [0.]\n",
      "[0.]\n",
      "si seulement vehicules essence 2010\n",
      "taux_implicite_diesel 0.84772173247535\n",
      "depenses_diesel_corrigees [0.]\n",
      "[0.]\n",
      "si seulement vehicules essence 2011\n",
      "taux_implicite_diesel 0.6836647391089924\n",
      "depenses_diesel_corrigees [0.]\n",
      "[0.]\n",
      "si seulement vehicules essence 2012\n",
      "taux_implicite_diesel 0.6353379450423817\n",
      "depenses_diesel_corrigees [0.]\n",
      "[0.]\n",
      "si seulement vehicules essence 2013\n",
      "taux_implicite_diesel 0.6711929143138056\n",
      "depenses_diesel_corrigees [0.]\n",
      "[0.]\n"
     ]
    }
   ],
   "source": [
    "index = range(2000, 2014)\n",
    "columns = ['si une essence et une diesel', 'si seulement vehicules diesel', 'si seulement vehicules essence']\n",
    "depenses_ticpe_pour_1000_euros_carbu = pd.DataFrame(index = index, columns = columns)\n",
    "\n",
    "for element in columns:\n",
    "    if element == 'si seulement vehicules essence':\n",
    "        diesel = 0\n",
    "    else:\n",
    "        diesel = 1\n",
    "    if element == 'si seulement vehicules diesel':\n",
    "        essence = 0\n",
    "    else:\n",
    "        essence = 1\n",
    "    for year in range(2000, 2014):\n",
    "        year = year\n",
    "        simulation = init_single_entity(\n",
    "            scenario = tax_benefit_system.new_scenario(),\n",
    "            period = year,\n",
    "            personne_de_reference = dict(\n",
    "                birth = datetime.date(year - 40, 1, 1),\n",
    "                ),\n",
    "            menage = dict(\n",
    "                depenses_carburants = 1000,\n",
    "                veh_essence = essence,\n",
    "                veh_diesel = diesel,\n",
    "                ),\n",
    "            ).new_simulation(debug = True)\n",
    "        print(element, year)\n",
    "        depenses_ticpe_pour_1000_euros_carbu.loc[depenses_ticpe_pour_1000_euros_carbu.index == year, element] = \\\n",
    "            simulation.calculate('ticpe_totale', period = year)\n"
   ]
  },
  {
   "cell_type": "markdown",
   "metadata": {},
   "source": [
    "# Réalisation d'un graphique"
   ]
  },
  {
   "cell_type": "code",
   "execution_count": 6,
   "metadata": {},
   "outputs": [
    {
     "data": {
      "image/png": "[encoded data removed]",
      "text/plain": [
       "<Figure size 432x288 with 1 Axes>"
      ]
     },
     "metadata": {
      "needs_background": "light"
     },
     "output_type": "display_data"
    }
   ],
   "source": [
    "graph_builder_line(depenses_ticpe_pour_1000_euros_carbu)\n"
   ]
  },
  {
   "cell_type": "code",
   "execution_count": null,
   "metadata": {},
   "outputs": [],
   "source": []
  }
 ],
 "metadata": {
  "kernelspec": {
   "display_name": "indirect_taxation",
   "language": "python",
   "name": "indirect_taxation"
  },
  "language_info": {
   "codemirror_mode": {
    "name": "ipython",
    "version": 3
   },
   "file_extension": ".py",
   "mimetype": "text/x-python",
   "name": "python",
   "nbconvert_exporter": "python",
   "pygments_lexer": "ipython3",
   "version": "3.7.3"
  }
 },
 "nbformat": 4,
 "nbformat_minor": 1
}
