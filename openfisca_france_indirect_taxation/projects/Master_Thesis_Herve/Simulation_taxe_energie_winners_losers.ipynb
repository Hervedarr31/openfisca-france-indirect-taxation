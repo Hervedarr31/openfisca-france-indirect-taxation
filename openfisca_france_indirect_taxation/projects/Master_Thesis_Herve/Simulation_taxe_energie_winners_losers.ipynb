{
 "cells": [
  {
   "cell_type": "code",
   "execution_count": 1,
   "metadata": {},
   "outputs": [],
   "source": [
    "# On essaye de réutiliser le code ~/openfisca_france_indirect_taxation/examples/benjello_candidates_to_removal/master_thesis/loosers_within_income_deciles.py\n",
    "import numpy\n",
    "import os\n",
    "import pandas as pd\n",
    "import seaborn as sns\n",
    "from matplotlib import pyplot as plt\n",
    "\n",
    "from openfisca_survey_manager.utils import asof\n",
    "\n",
    "from openfisca_france_indirect_taxation import FranceIndirectTaxationTaxBenefitSystem\n",
    "from openfisca_france_indirect_taxation.examples.utils_example import (\n",
    "    dataframe_by_group,\n",
    "    graph_builder_bar)\n",
    "from openfisca_france_indirect_taxation.surveys import SurveyScenario\n",
    "from openfisca_france_indirect_taxation.projects.budgets.reforme_energie_budgets_2018_2019 import officielle_2019_in_2017\n",
    "from openfisca_france_indirect_taxation.calibration import get_inflators_by_year_energy\n"
   ]
  },
  {
   "cell_type": "code",
   "execution_count": 2,
   "metadata": {},
   "outputs": [],
   "source": [
    "ident_men = pd.DataFrame(pd.HDFStore(\"C:/Users/veve1/OneDrive/Documents/ENSAE 3A/Memoire MiE/Data/data_collections/output/openfisca_indirect_taxation_data_2017.h5\")['input']['ident_men'])\n",
    "ident_men['ident_men'] = ident_men.ident_men.astype(numpy.int64)\n",
    "\n",
    "data_path = \"C:/Users/veve1/OneDrive/Documents/ENSAE 3A/Memoire MiE/Data\"\n",
    "path = \"C:/Users/veve1/OneDrive/Documents/ENSAE 3A/Memoire MiE/Data/donnees_relance_note_mars_2022/fiscalite_indirecte\"\n",
    "elasticite = True\n",
    "replique_gouv = True"
   ]
  },
  {
   "cell_type": "code",
   "execution_count": 3,
   "metadata": {},
   "outputs": [],
   "source": [
    "                           \n",
    "df_elasticities = pd.read_csv(os.path.join(data_path,'Elasticities_literature.csv'), sep = \";\")\n",
    "df_elasticities = df_elasticities.astype({'ref_elasticity': str, 'elas_price_1_1': float , 'elas_price_2_2' : float ,'elas_price_3_3' : float })\n",
    "\n",
    "# exemple\n",
    "#elasticites = df_elasticities[df_elasticities['ref_elasticity'] == 'Douenne (2020)'] "
   ]
  },
  {
   "cell_type": "code",
   "execution_count": 34,
   "metadata": {},
   "outputs": [
    {
     "name": "stderr",
     "output_type": "stream",
     "text": [
      "c:\\Users\\veve1\\OneDrive\\Documents\\ENSAE 3A\\Memoire MiE\\hervenv\\lib\\site-packages\\pandas\\core\\frame.py:5039: SettingWithCopyWarning: \n",
      "A value is trying to be set on a copy of a slice from a DataFrame\n",
      "\n",
      "See the caveats in the documentation: https://pandas.pydata.org/pandas-docs/stable/user_guide/indexing.html#returning-a-view-versus-a-copy\n",
      "  return super().rename(\n"
     ]
    }
   ],
   "source": [
    "data_year = 2017\n",
    "# on veut faire les simulations sur les quantités avant réforme\n",
    "# idéalement on voudrait l'évolution des quantités pour les années jusque 2022 s'il n'y avait pas eu de réforme\n",
    "# mais en l'absence d'information on considère que la consommation reste constante dans le contrefactuel.\n",
    "inflators_by_year = get_inflators_by_year_energy(rebuild = True, year_range = range(2011, 2020), data_year = data_year)\n",
    "inflators_by_year[2018] = inflators_by_year[2017]\n",
    "inflators_by_year[2019] = inflators_by_year[2017]\n",
    "inflators_by_year[2020] = inflators_by_year[2017]\n",
    "inflators_by_year[2021] = inflators_by_year[2017]\n",
    "inflators_by_year[2022] = inflators_by_year[2017]\n",
    "year = 2019"
   ]
  },
  {
   "cell_type": "code",
   "execution_count": 11,
   "metadata": {},
   "outputs": [
    {
     "ename": "NameError",
     "evalue": "name 'elasticites' is not defined",
     "output_type": "error",
     "traceback": [
      "\u001b[1;31m---------------------------------------------------------------------------\u001b[0m",
      "\u001b[1;31mNameError\u001b[0m                                 Traceback (most recent call last)",
      "Cell \u001b[1;32mIn[11], line 4\u001b[0m\n\u001b[0;32m      1\u001b[0m \u001b[39m# elasticités : le programme de T. Douenne n'a pas été bien adapté (pas le temps) et du coup on a pas d'élasticité pour tout le monde\u001b[39;00m\n\u001b[0;32m      2\u001b[0m \u001b[39m# on prend des élasticités agrégées par type de bien\u001b[39;00m\n\u001b[1;32m----> 4\u001b[0m ident_men[\u001b[39m'\u001b[39m\u001b[39melas_price_1_1\u001b[39m\u001b[39m'\u001b[39m] \u001b[39m=\u001b[39m elasticites[\u001b[39m'\u001b[39m\u001b[39melas_price_1_1\u001b[39m\u001b[39m'\u001b[39m]\u001b[39m.\u001b[39mreset_index()[\u001b[39m'\u001b[39m\u001b[39melas_price_1_1\u001b[39m\u001b[39m'\u001b[39m][\u001b[39m0\u001b[39m] \u001b[39m# transport fuel\u001b[39;00m\n\u001b[0;32m      5\u001b[0m ident_men[\u001b[39m'\u001b[39m\u001b[39melas_price_2_2\u001b[39m\u001b[39m'\u001b[39m] \u001b[39m=\u001b[39m elasticites[\u001b[39m'\u001b[39m\u001b[39melas_price_2_2\u001b[39m\u001b[39m'\u001b[39m]\u001b[39m.\u001b[39mreset_index()[\u001b[39m'\u001b[39m\u001b[39melas_price_2_2\u001b[39m\u001b[39m'\u001b[39m][\u001b[39m0\u001b[39m] \u001b[39m# housing fuel\u001b[39;00m\n\u001b[0;32m      6\u001b[0m ident_men[\u001b[39m'\u001b[39m\u001b[39melas_price_3_3\u001b[39m\u001b[39m'\u001b[39m] \u001b[39m=\u001b[39m elasticites[\u001b[39m'\u001b[39m\u001b[39melas_price_3_3\u001b[39m\u001b[39m'\u001b[39m]\u001b[39m.\u001b[39mreset_index()[\u001b[39m'\u001b[39m\u001b[39melas_price_3_3\u001b[39m\u001b[39m'\u001b[39m][\u001b[39m0\u001b[39m] \u001b[39m# other non durable goods ??\u001b[39;00m\n",
      "\u001b[1;31mNameError\u001b[0m: name 'elasticites' is not defined"
     ]
    }
   ],
   "source": [
    "# elasticités : le programme de T. Douenne n'a pas été bien adapté (pas le temps) et du coup on a pas d'élasticité pour tout le monde\n",
    "# on prend des élasticités agrégées par type de bien\n",
    "\n",
    "ident_men['elas_price_1_1'] = elasticites['elas_price_1_1'].reset_index()['elas_price_1_1'][0] # transport fuel\n",
    "ident_men['elas_price_2_2'] = elasticites['elas_price_2_2'].reset_index()['elas_price_2_2'][0] # housing fuel\n",
    "ident_men['elas_price_3_3'] = elasticites['elas_price_3_3'].reset_index()['elas_price_3_3'][0] # other non durable goods ??\n",
    "\n",
    "elasticities = ident_men\n",
    "inflation_kwargs = dict(inflator_by_variable = inflators_by_year[year])"
   ]
  },
  {
   "cell_type": "code",
   "execution_count": 12,
   "metadata": {},
   "outputs": [],
   "source": [
    "simulated_variables = [\n",
    "        'total_taxes_energies',\n",
    "        'total_taxes_energies_officielle_2019_in_2017',\n",
    "        'ticgn',\n",
    "        'ticgn_officielle_2019_in_2017',\n",
    "        'cheques_energie',\n",
    "        'rev_disp_loyerimput',\n",
    "        'pondmen',\n",
    "        'ocde10',\n",
    "        'niveau_vie_decile'\n",
    "        ]"
   ]
  },
  {
   "cell_type": "code",
   "execution_count": 13,
   "metadata": {},
   "outputs": [
    {
     "ename": "KeyboardInterrupt",
     "evalue": "",
     "output_type": "error",
     "traceback": [
      "\u001b[1;31m---------------------------------------------------------------------------\u001b[0m",
      "\u001b[1;31mKeyboardInterrupt\u001b[0m                         Traceback (most recent call last)",
      "Cell \u001b[1;32mIn[13], line 1\u001b[0m\n\u001b[1;32m----> 1\u001b[0m baseline_tax_benefit_system \u001b[39m=\u001b[39m FranceIndirectTaxationTaxBenefitSystem()\n\u001b[0;32m      2\u001b[0m asof(baseline_tax_benefit_system, \u001b[39m\"\u001b[39m\u001b[39m2017-12-31\u001b[39m\u001b[39m\"\u001b[39m)\n\u001b[0;32m      3\u001b[0m \u001b[39mif\u001b[39;00m elasticite:\n",
      "File \u001b[1;32mc:\\users\\veve1\\onedrive\\documents\\ensae 3a\\memoire mie\\openfisca-france-indirect-taxation\\openfisca_france_indirect_taxation\\france_indirect_taxation_taxbenefitsystem.py:30\u001b[0m, in \u001b[0;36mFranceIndirectTaxationTaxBenefitSystem.__init__\u001b[1;34m(self)\u001b[0m\n\u001b[0;32m     28\u001b[0m \u001b[39mfor\u001b[39;00m extension_dir \u001b[39min\u001b[39;00m EXTENSIONS_DIRECTORIES:\n\u001b[0;32m     29\u001b[0m     \u001b[39mself\u001b[39m\u001b[39m.\u001b[39mload_extension(extension_dir)\n\u001b[1;32m---> 30\u001b[0m \u001b[39mself\u001b[39;49m\u001b[39m.\u001b[39;49mprefill_cache()\n\u001b[0;32m     31\u001b[0m \u001b[39mself\u001b[39m\u001b[39m.\u001b[39mparameters \u001b[39m=\u001b[39m \u001b[39mself\u001b[39m\u001b[39m.\u001b[39mpreprocess_legislation(\u001b[39mself\u001b[39m\u001b[39m.\u001b[39mparameters)\n",
      "File \u001b[1;32mc:\\users\\veve1\\onedrive\\documents\\ensae 3a\\memoire mie\\openfisca-france-indirect-taxation\\openfisca_france_indirect_taxation\\france_indirect_taxation_taxbenefitsystem.py:36\u001b[0m, in \u001b[0;36mFranceIndirectTaxationTaxBenefitSystem.prefill_cache\u001b[1;34m(self)\u001b[0m\n\u001b[0;32m     34\u001b[0m \u001b[39m\u001b[39m\u001b[39m\"\"\"Define poste_* and categorie fiscales variables\"\"\"\u001b[39;00m\n\u001b[0;32m     35\u001b[0m \u001b[39mfrom\u001b[39;00m \u001b[39mopenfisca_france_indirect_taxation\u001b[39;00m\u001b[39m.\u001b[39;00m\u001b[39mvariables\u001b[39;00m\u001b[39m.\u001b[39;00m\u001b[39mconsommation\u001b[39;00m \u001b[39mimport\u001b[39;00m postes_coicop\n\u001b[1;32m---> 36\u001b[0m postes_coicop\u001b[39m.\u001b[39;49mpreload_postes_coicop_data_frame(\u001b[39mself\u001b[39;49m)\n\u001b[0;32m     37\u001b[0m \u001b[39mfrom\u001b[39;00m \u001b[39mopenfisca_france_indirect_taxation\u001b[39;00m\u001b[39m.\u001b[39;00m\u001b[39mvariables\u001b[39;00m\u001b[39m.\u001b[39;00m\u001b[39mconsommation\u001b[39;00m \u001b[39mimport\u001b[39;00m categories_fiscales\n\u001b[0;32m     38\u001b[0m categories_fiscales\u001b[39m.\u001b[39mpreload_categories_fiscales_data_frame(\u001b[39mself\u001b[39m)\n",
      "File \u001b[1;32mc:\\users\\veve1\\onedrive\\documents\\ensae 3a\\memoire mie\\openfisca-france-indirect-taxation\\openfisca_france_indirect_taxation\\variables\\consommation\\postes_coicop.py:149\u001b[0m, in \u001b[0;36mpreload_postes_coicop_data_frame\u001b[1;34m(tax_benefit_system)\u001b[0m\n\u001b[0;32m    147\u001b[0m generate_postes_variables(tax_benefit_system)\n\u001b[0;32m    148\u001b[0m generate_postes_agreges_variables(tax_benefit_system)\n\u001b[1;32m--> 149\u001b[0m generate_depenses_ht_postes_variables(\n\u001b[0;32m    150\u001b[0m     tax_benefit_system, categories_fiscales \u001b[39m=\u001b[39;49m categories_fiscales_data_frame\u001b[39m.\u001b[39;49mcopy())\n",
      "File \u001b[1;32mc:\\users\\veve1\\onedrive\\documents\\ensae 3a\\memoire mie\\openfisca-france-indirect-taxation\\openfisca_france_indirect_taxation\\variables\\consommation\\postes_coicop.py:52\u001b[0m, in \u001b[0;36mgenerate_depenses_ht_postes_variables\u001b[1;34m(tax_benefit_system, categories_fiscales, reform_key)\u001b[0m\n\u001b[0;32m     49\u001b[0m functions_by_name \u001b[39m=\u001b[39m \u001b[39mdict\u001b[39m()\n\u001b[0;32m     50\u001b[0m \u001b[39mfor\u001b[39;00m year \u001b[39min\u001b[39;00m \u001b[39mrange\u001b[39m(year_start, year_final_stop \u001b[39m+\u001b[39m \u001b[39m1\u001b[39m):\n\u001b[0;32m     51\u001b[0m     postes_coicop \u001b[39m=\u001b[39m \u001b[39msorted\u001b[39m(\n\u001b[1;32m---> 52\u001b[0m         categories_fiscales\u001b[39m.\u001b[39;49mquery(\n\u001b[0;32m     53\u001b[0m             \u001b[39m'\u001b[39;49m\u001b[39mstart <= @year and stop >= @year and categorie_fiscale == @categorie_fiscale\u001b[39;49m\u001b[39m'\u001b[39;49m\n\u001b[0;32m     54\u001b[0m             )[\u001b[39m'\u001b[39m\u001b[39mcode_coicop\u001b[39m\u001b[39m'\u001b[39m]\u001b[39m.\u001b[39mastype(\u001b[39mstr\u001b[39m))\n\u001b[0;32m     55\u001b[0m     \u001b[39mif\u001b[39;00m year \u001b[39m==\u001b[39m year_start:\n\u001b[0;32m     56\u001b[0m         previous_postes_coicop \u001b[39m=\u001b[39m postes_coicop\n",
      "File \u001b[1;32mc:\\Users\\veve1\\OneDrive\\Documents\\ENSAE 3A\\Memoire MiE\\hervenv\\lib\\site-packages\\pandas\\core\\frame.py:4060\u001b[0m, in \u001b[0;36mDataFrame.query\u001b[1;34m(self, expr, inplace, **kwargs)\u001b[0m\n\u001b[0;32m   4058\u001b[0m kwargs[\u001b[39m\"\u001b[39m\u001b[39mlevel\u001b[39m\u001b[39m\"\u001b[39m] \u001b[39m=\u001b[39m kwargs\u001b[39m.\u001b[39mpop(\u001b[39m\"\u001b[39m\u001b[39mlevel\u001b[39m\u001b[39m\"\u001b[39m, \u001b[39m0\u001b[39m) \u001b[39m+\u001b[39m \u001b[39m1\u001b[39m\n\u001b[0;32m   4059\u001b[0m kwargs[\u001b[39m\"\u001b[39m\u001b[39mtarget\u001b[39m\u001b[39m\"\u001b[39m] \u001b[39m=\u001b[39m \u001b[39mNone\u001b[39;00m\n\u001b[1;32m-> 4060\u001b[0m res \u001b[39m=\u001b[39m \u001b[39mself\u001b[39m\u001b[39m.\u001b[39meval(expr, \u001b[39m*\u001b[39m\u001b[39m*\u001b[39mkwargs)\n\u001b[0;32m   4062\u001b[0m \u001b[39mtry\u001b[39;00m:\n\u001b[0;32m   4063\u001b[0m     result \u001b[39m=\u001b[39m \u001b[39mself\u001b[39m\u001b[39m.\u001b[39mloc[res]\n",
      "File \u001b[1;32mc:\\Users\\veve1\\OneDrive\\Documents\\ENSAE 3A\\Memoire MiE\\hervenv\\lib\\site-packages\\pandas\\core\\frame.py:4191\u001b[0m, in \u001b[0;36mDataFrame.eval\u001b[1;34m(self, expr, inplace, **kwargs)\u001b[0m\n\u001b[0;32m   4188\u001b[0m     kwargs[\u001b[39m\"\u001b[39m\u001b[39mtarget\u001b[39m\u001b[39m\"\u001b[39m] \u001b[39m=\u001b[39m \u001b[39mself\u001b[39m\n\u001b[0;32m   4189\u001b[0m kwargs[\u001b[39m\"\u001b[39m\u001b[39mresolvers\u001b[39m\u001b[39m\"\u001b[39m] \u001b[39m=\u001b[39m kwargs\u001b[39m.\u001b[39mget(\u001b[39m\"\u001b[39m\u001b[39mresolvers\u001b[39m\u001b[39m\"\u001b[39m, ()) \u001b[39m+\u001b[39m \u001b[39mtuple\u001b[39m(resolvers)\n\u001b[1;32m-> 4191\u001b[0m \u001b[39mreturn\u001b[39;00m _eval(expr, inplace\u001b[39m=\u001b[39minplace, \u001b[39m*\u001b[39m\u001b[39m*\u001b[39mkwargs)\n",
      "File \u001b[1;32mc:\\Users\\veve1\\OneDrive\\Documents\\ENSAE 3A\\Memoire MiE\\hervenv\\lib\\site-packages\\pandas\\core\\computation\\eval.py:353\u001b[0m, in \u001b[0;36meval\u001b[1;34m(expr, parser, engine, truediv, local_dict, global_dict, resolvers, level, target, inplace)\u001b[0m\n\u001b[0;32m    351\u001b[0m eng \u001b[39m=\u001b[39m ENGINES[engine]\n\u001b[0;32m    352\u001b[0m eng_inst \u001b[39m=\u001b[39m eng(parsed_expr)\n\u001b[1;32m--> 353\u001b[0m ret \u001b[39m=\u001b[39m eng_inst\u001b[39m.\u001b[39;49mevaluate()\n\u001b[0;32m    355\u001b[0m \u001b[39mif\u001b[39;00m parsed_expr\u001b[39m.\u001b[39massigner \u001b[39mis\u001b[39;00m \u001b[39mNone\u001b[39;00m:\n\u001b[0;32m    356\u001b[0m     \u001b[39mif\u001b[39;00m multi_line:\n",
      "File \u001b[1;32mc:\\Users\\veve1\\OneDrive\\Documents\\ENSAE 3A\\Memoire MiE\\hervenv\\lib\\site-packages\\pandas\\core\\computation\\engines.py:80\u001b[0m, in \u001b[0;36mAbstractEngine.evaluate\u001b[1;34m(self)\u001b[0m\n\u001b[0;32m     77\u001b[0m     \u001b[39mself\u001b[39m\u001b[39m.\u001b[39mresult_type, \u001b[39mself\u001b[39m\u001b[39m.\u001b[39maligned_axes \u001b[39m=\u001b[39m align_terms(\u001b[39mself\u001b[39m\u001b[39m.\u001b[39mexpr\u001b[39m.\u001b[39mterms)\n\u001b[0;32m     79\u001b[0m \u001b[39m# make sure no names in resolvers and locals/globals clash\u001b[39;00m\n\u001b[1;32m---> 80\u001b[0m res \u001b[39m=\u001b[39m \u001b[39mself\u001b[39;49m\u001b[39m.\u001b[39;49m_evaluate()\n\u001b[0;32m     81\u001b[0m \u001b[39mreturn\u001b[39;00m reconstruct_object(\n\u001b[0;32m     82\u001b[0m     \u001b[39mself\u001b[39m\u001b[39m.\u001b[39mresult_type, res, \u001b[39mself\u001b[39m\u001b[39m.\u001b[39maligned_axes, \u001b[39mself\u001b[39m\u001b[39m.\u001b[39mexpr\u001b[39m.\u001b[39mterms\u001b[39m.\u001b[39mreturn_type\n\u001b[0;32m     83\u001b[0m )\n",
      "File \u001b[1;32mc:\\Users\\veve1\\OneDrive\\Documents\\ENSAE 3A\\Memoire MiE\\hervenv\\lib\\site-packages\\pandas\\core\\computation\\engines.py:121\u001b[0m, in \u001b[0;36mNumExprEngine._evaluate\u001b[1;34m(self)\u001b[0m\n\u001b[0;32m    119\u001b[0m scope \u001b[39m=\u001b[39m env\u001b[39m.\u001b[39mfull_scope\n\u001b[0;32m    120\u001b[0m _check_ne_builtin_clash(\u001b[39mself\u001b[39m\u001b[39m.\u001b[39mexpr)\n\u001b[1;32m--> 121\u001b[0m \u001b[39mreturn\u001b[39;00m ne\u001b[39m.\u001b[39;49mevaluate(s, local_dict\u001b[39m=\u001b[39;49mscope)\n",
      "File \u001b[1;32mc:\\Users\\veve1\\OneDrive\\Documents\\ENSAE 3A\\Memoire MiE\\hervenv\\lib\\site-packages\\numexpr\\necompiler.py:835\u001b[0m, in \u001b[0;36mevaluate\u001b[1;34m(ex, local_dict, global_dict, out, order, casting, **kwargs)\u001b[0m\n\u001b[0;32m    833\u001b[0m _numexpr_last \u001b[39m=\u001b[39m \u001b[39mdict\u001b[39m(ex\u001b[39m=\u001b[39mcompiled_ex, argnames\u001b[39m=\u001b[39mnames, kwargs\u001b[39m=\u001b[39mkwargs)\n\u001b[0;32m    834\u001b[0m \u001b[39mwith\u001b[39;00m evaluate_lock:\n\u001b[1;32m--> 835\u001b[0m     \u001b[39mreturn\u001b[39;00m compiled_ex(\u001b[39m*\u001b[39marguments, \u001b[39m*\u001b[39m\u001b[39m*\u001b[39mkwargs)\n",
      "\u001b[1;31mKeyboardInterrupt\u001b[0m: "
     ]
    }
   ],
   "source": [
    "baseline_tax_benefit_system = FranceIndirectTaxationTaxBenefitSystem()\n",
    "asof(baseline_tax_benefit_system, \"2017-12-31\")\n",
    "if elasticite:\n",
    "    survey_scenario = SurveyScenario.create(\n",
    "        elasticities = elasticities,\n",
    "        inflation_kwargs = inflation_kwargs,\n",
    "        baseline_tax_benefit_system = baseline_tax_benefit_system,\n",
    "        reform = officielle_2019_in_2017,\n",
    "        year = year,\n",
    "        data_year = data_year\n",
    "        )\n",
    "else:\n",
    "    survey_scenario = SurveyScenario.create( \n",
    "        inflation_kwargs = inflation_kwargs,\n",
    "        baseline_tax_benefit_system = baseline_tax_benefit_system,\n",
    "        reform = officielle_2019_in_2017,\n",
    "        year = year,\n",
    "        data_year = data_year\n",
    "        )"
   ]
  },
  {
   "cell_type": "code",
   "execution_count": 39,
   "metadata": {},
   "outputs": [],
   "source": [
    "indiv_df_reform = survey_scenario.create_data_frame_by_entity(simulated_variables, period = year)\n",
    "#indiv_df_reference = survey_scenario.create_data_frame_by_entity(simulated_variables, use_baseline =True, period = year)\n",
    "\n",
    "menages_reform= indiv_df_reform['menage']\n",
    "#menages_reference_test = indiv_df_reference['menage']\n"
   ]
  },
  {
   "cell_type": "code",
   "execution_count": 15,
   "metadata": {},
   "outputs": [],
   "source": [
    "menages_reform['Net_apres_cheques_energie'] = menages_reform['cheques_energie'] - \\\n",
    "    (menages_reform['total_taxes_energies_officielle_2019_in_2017'] - menages_reform['total_taxes_energies']) - \\\n",
    "        (menages_reform['ticgn_officielle_2019_in_2017'] - menages_reform['ticgn'])\n",
    "        "
   ]
  },
  {
   "cell_type": "code",
   "execution_count": 16,
   "metadata": {},
   "outputs": [],
   "source": [
    "menages_reform['is_losers'] = menages_reform['Net_apres_cheques_energie'] <0 \n",
    "grouped_df = menages_reform.groupby('niveau_vie_decile')\n",
    "losers_df = menages_reform[menages_reform['is_losers'] == True]\n",
    "grouped_losers = losers_df.groupby('niveau_vie_decile')"
   ]
  },
  {
   "cell_type": "code",
   "execution_count": 17,
   "metadata": {},
   "outputs": [],
   "source": [
    "share_decile = grouped_losers['pondmen'].sum() / grouped_df['pondmen'].sum() * 100\n",
    "share_total = grouped_losers['pondmen'].sum().sum() / grouped_df['pondmen'].sum().sum() *100"
   ]
  },
  {
   "cell_type": "code",
   "execution_count": 18,
   "metadata": {},
   "outputs": [],
   "source": [
    "to_graph = pd.DataFrame(share_decile)\n",
    "to_graph.reset_index(inplace = True)\n",
    "to_graph = pd.concat([to_graph,pd.DataFrame(data = {'niveau_vie_decile' : 'Total', 'pondmen' : share_total}, index = [0])])\n",
    "\n",
    "to_graph.rename(columns = {'pondmen' : 'losers'}, inplace = True)\n",
    "to_graph['winners'] = 100 - to_graph['losers']\n",
    "#ref_elasticity = elasticites['ref_elasticity'].reset_index()['ref_elasticity'][0]\n",
    "#to_graph['ref_elasticity'] = ref_elasticity"
   ]
  },
  {
   "cell_type": "code",
   "execution_count": 4,
   "metadata": {},
   "outputs": [],
   "source": [
    "from openfisca_france_indirect_taxation.projects.Master_Thesis_Herve.Simulation_taxe_energie_winners_losers import (\n",
    "    simulate_reformes_energie,\n",
    "    run_all_elasticities\n",
    "    )"
   ]
  },
  {
   "cell_type": "code",
   "execution_count": 5,
   "metadata": {},
   "outputs": [
    {
     "name": "stderr",
     "output_type": "stream",
     "text": [
      "c:\\Users\\veve1\\OneDrive\\Documents\\ENSAE 3A\\Memoire MiE\\hervenv\\lib\\site-packages\\pandas\\core\\frame.py:5039: SettingWithCopyWarning: \n",
      "A value is trying to be set on a copy of a slice from a DataFrame\n",
      "\n",
      "See the caveats in the documentation: https://pandas.pydata.org/pandas-docs/stable/user_guide/indexing.html#returning-a-view-versus-a-copy\n",
      "  return super().rename(\n"
     ]
    }
   ],
   "source": [
    "to_graph, menages_reform = run_all_elasticities(df_elasticities)"
   ]
  },
  {
   "cell_type": "code",
   "execution_count": null,
   "metadata": {},
   "outputs": [],
   "source": [
    "plt.figure(figsize= (10,7.5)) \n",
    "# Si on veut avoir la part de gagnants qui complète la bar jusqu'à 1 \n",
    "#to_graph['total'] = 1\n",
    "#bar1 = sns.barplot(x=\"niveau_vie_decile\", y = 'total', data = to_graph, hue = 'ref_elasticity', palette = sns.color_palette(\"muted\"), saturation = .2, width=.9)\n",
    "bar2 = sns.barplot(x=\"niveau_vie_decile\", y = 'losers', data = to_graph, hue = 'ref_elasticity', palette = sns.color_palette(\"Paired\"), width = .9)\n",
    "plt.xlabel('Revenu decile', fontdict = {'fontsize' : 12})\n",
    "plt.ylabel('Share of net losers from the reform', fontdict = {'fontsize' : 12})\n",
    "plt.legend()\n",
    "plt.savefig(os.path.join(path,'Winners_losers_reform.png'))"
   ]
  },
  {
   "cell_type": "code",
   "execution_count": 45,
   "metadata": {},
   "outputs": [
    {
     "data": {
      "text/plain": [
       "<Axes: xlabel='niveau_vie_decile', ylabel='Net_apres_cheques_energie'>"
      ]
     },
     "execution_count": 45,
     "metadata": {},
     "output_type": "execute_result"
    },
    {
     "data": {
      "image/png": "[encoded data removed]",
      "text/plain": [
       "<Figure size 640x480 with 1 Axes>"
      ]
     },
     "metadata": {},
     "output_type": "display_data"
    }
   ],
   "source": [
    "sns.boxplot(data = menages_reform, x = \"niveau_vie_decile\", y = \"Net_apres_cheques_energie\", hue = \"ref_elasticity\")"
   ]
  },
  {
   "cell_type": "code",
   "execution_count": 44,
   "metadata": {},
   "outputs": [],
   "source": [
    "menages_reform['ref_elasticity'] = 'Douenne (2020)'"
   ]
  },
  {
   "cell_type": "code",
   "execution_count": 57,
   "metadata": {},
   "outputs": [],
   "source": [
    "menages_reform['taux_effort'] = menages_reform['total_taxes_energies_officielle_2019_in_2017'] / menages_reform['rev_disp_loyerimput'] * 100"
   ]
  },
  {
   "cell_type": "code",
   "execution_count": 59,
   "metadata": {},
   "outputs": [
    {
     "data": {
      "text/plain": [
       "<Axes: xlabel='niveau_vie_decile', ylabel='taux_effort'>"
      ]
     },
     "execution_count": 59,
     "metadata": {},
     "output_type": "execute_result"
    },
    {
     "data": {
      "image/png": "[encoded data removed]",
      "text/plain": [
       "<Figure size 640x480 with 1 Axes>"
      ]
     },
     "metadata": {},
     "output_type": "display_data"
    }
   ],
   "source": [
    "sns.boxplot(data = menages_reform, x = \"niveau_vie_decile\", y = \"taux_effort\", hue = \"ref_elasticity\")"
   ]
  },
  {
   "cell_type": "code",
   "execution_count": 53,
   "metadata": {},
   "outputs": [
    {
     "data": {
      "text/plain": [
       "Index(['ocde10', 'cheques_energie', 'ticgn_officielle_2019_in_2017',\n",
       "       'total_taxes_energies', 'ticgn', 'rev_disp_loyerimput', 'pondmen',\n",
       "       'niveau_vie_decile', 'total_taxes_energies_officielle_2019_in_2017',\n",
       "       'Net_apres_cheques_energie', 'is_losers', 'ref_elasticity',\n",
       "       'taux_effort'],\n",
       "      dtype='object')"
      ]
     },
     "execution_count": 53,
     "metadata": {},
     "output_type": "execute_result"
    }
   ],
   "source": [
    "menages_reform.columns"
   ]
  },
  {
   "cell_type": "code",
   "execution_count": 62,
   "metadata": {},
   "outputs": [
    {
     "data": {
      "text/html": [
       "<div>\n",
       "<style scoped>\n",
       "    .dataframe tbody tr th:only-of-type {\n",
       "        vertical-align: middle;\n",
       "    }\n",
       "\n",
       "    .dataframe tbody tr th {\n",
       "        vertical-align: top;\n",
       "    }\n",
       "\n",
       "    .dataframe thead th {\n",
       "        text-align: right;\n",
       "    }\n",
       "</style>\n",
       "<table border=\"1\" class=\"dataframe\">\n",
       "  <thead>\n",
       "    <tr style=\"text-align: right;\">\n",
       "      <th></th>\n",
       "      <th>ocde10</th>\n",
       "      <th>cheques_energie</th>\n",
       "      <th>ticgn_officielle_2019_in_2017</th>\n",
       "      <th>total_taxes_energies</th>\n",
       "      <th>ticgn</th>\n",
       "      <th>rev_disp_loyerimput</th>\n",
       "      <th>pondmen</th>\n",
       "      <th>niveau_vie_decile</th>\n",
       "      <th>total_taxes_energies_officielle_2019_in_2017</th>\n",
       "      <th>Net_apres_cheques_energie</th>\n",
       "      <th>is_losers</th>\n",
       "      <th>ref_elasticity</th>\n",
       "      <th>taux_effort</th>\n",
       "    </tr>\n",
       "  </thead>\n",
       "  <tbody>\n",
       "    <tr>\n",
       "      <th>10137</th>\n",
       "      <td>1.0</td>\n",
       "      <td>194.0</td>\n",
       "      <td>0.000000</td>\n",
       "      <td>867.485291</td>\n",
       "      <td>0.000000</td>\n",
       "      <td>0.000000</td>\n",
       "      <td>3180</td>\n",
       "      <td>1.0</td>\n",
       "      <td>941.055908</td>\n",
       "      <td>120.429382</td>\n",
       "      <td>False</td>\n",
       "      <td>Douenne (2020)</td>\n",
       "      <td>inf</td>\n",
       "    </tr>\n",
       "    <tr>\n",
       "      <th>6656</th>\n",
       "      <td>2.1</td>\n",
       "      <td>277.0</td>\n",
       "      <td>0.000000</td>\n",
       "      <td>1060.844727</td>\n",
       "      <td>0.000000</td>\n",
       "      <td>0.000000</td>\n",
       "      <td>2073</td>\n",
       "      <td>1.0</td>\n",
       "      <td>1177.362793</td>\n",
       "      <td>160.481934</td>\n",
       "      <td>False</td>\n",
       "      <td>Douenne (2020)</td>\n",
       "      <td>inf</td>\n",
       "    </tr>\n",
       "    <tr>\n",
       "      <th>845</th>\n",
       "      <td>1.0</td>\n",
       "      <td>194.0</td>\n",
       "      <td>35.860615</td>\n",
       "      <td>507.214661</td>\n",
       "      <td>24.988861</td>\n",
       "      <td>0.000000</td>\n",
       "      <td>2632</td>\n",
       "      <td>1.0</td>\n",
       "      <td>524.879578</td>\n",
       "      <td>165.463333</td>\n",
       "      <td>False</td>\n",
       "      <td>Douenne (2020)</td>\n",
       "      <td>inf</td>\n",
       "    </tr>\n",
       "    <tr>\n",
       "      <th>7583</th>\n",
       "      <td>1.0</td>\n",
       "      <td>194.0</td>\n",
       "      <td>0.000000</td>\n",
       "      <td>242.398499</td>\n",
       "      <td>0.000000</td>\n",
       "      <td>0.000000</td>\n",
       "      <td>6455</td>\n",
       "      <td>1.0</td>\n",
       "      <td>262.956055</td>\n",
       "      <td>173.442444</td>\n",
       "      <td>False</td>\n",
       "      <td>Douenne (2020)</td>\n",
       "      <td>inf</td>\n",
       "    </tr>\n",
       "    <tr>\n",
       "      <th>4603</th>\n",
       "      <td>1.0</td>\n",
       "      <td>194.0</td>\n",
       "      <td>0.000000</td>\n",
       "      <td>198.233994</td>\n",
       "      <td>0.000000</td>\n",
       "      <td>0.000000</td>\n",
       "      <td>4467</td>\n",
       "      <td>1.0</td>\n",
       "      <td>205.137939</td>\n",
       "      <td>187.096054</td>\n",
       "      <td>False</td>\n",
       "      <td>Douenne (2020)</td>\n",
       "      <td>inf</td>\n",
       "    </tr>\n",
       "    <tr>\n",
       "      <th>...</th>\n",
       "      <td>...</td>\n",
       "      <td>...</td>\n",
       "      <td>...</td>\n",
       "      <td>...</td>\n",
       "      <td>...</td>\n",
       "      <td>...</td>\n",
       "      <td>...</td>\n",
       "      <td>...</td>\n",
       "      <td>...</td>\n",
       "      <td>...</td>\n",
       "      <td>...</td>\n",
       "      <td>...</td>\n",
       "      <td>...</td>\n",
       "    </tr>\n",
       "    <tr>\n",
       "      <th>4908</th>\n",
       "      <td>1.5</td>\n",
       "      <td>0.0</td>\n",
       "      <td>161.798584</td>\n",
       "      <td>0.000000</td>\n",
       "      <td>112.814163</td>\n",
       "      <td>39712.878906</td>\n",
       "      <td>2669</td>\n",
       "      <td>5.0</td>\n",
       "      <td>0.000000</td>\n",
       "      <td>-48.984421</td>\n",
       "      <td>True</td>\n",
       "      <td>Douenne (2020)</td>\n",
       "      <td>0.0</td>\n",
       "    </tr>\n",
       "    <tr>\n",
       "      <th>8795</th>\n",
       "      <td>1.5</td>\n",
       "      <td>0.0</td>\n",
       "      <td>301.480652</td>\n",
       "      <td>0.000000</td>\n",
       "      <td>210.207565</td>\n",
       "      <td>60138.906250</td>\n",
       "      <td>2230</td>\n",
       "      <td>9.0</td>\n",
       "      <td>0.000000</td>\n",
       "      <td>-91.273087</td>\n",
       "      <td>True</td>\n",
       "      <td>Douenne (2020)</td>\n",
       "      <td>0.0</td>\n",
       "    </tr>\n",
       "    <tr>\n",
       "      <th>8796</th>\n",
       "      <td>1.3</td>\n",
       "      <td>0.0</td>\n",
       "      <td>0.000000</td>\n",
       "      <td>0.000000</td>\n",
       "      <td>0.000000</td>\n",
       "      <td>32556.853516</td>\n",
       "      <td>450</td>\n",
       "      <td>5.0</td>\n",
       "      <td>0.000000</td>\n",
       "      <td>0.000000</td>\n",
       "      <td>False</td>\n",
       "      <td>Douenne (2020)</td>\n",
       "      <td>0.0</td>\n",
       "    </tr>\n",
       "    <tr>\n",
       "      <th>8987</th>\n",
       "      <td>1.5</td>\n",
       "      <td>0.0</td>\n",
       "      <td>0.000000</td>\n",
       "      <td>0.000000</td>\n",
       "      <td>0.000000</td>\n",
       "      <td>34242.246094</td>\n",
       "      <td>2065</td>\n",
       "      <td>5.0</td>\n",
       "      <td>0.000000</td>\n",
       "      <td>0.000000</td>\n",
       "      <td>False</td>\n",
       "      <td>Douenne (2020)</td>\n",
       "      <td>0.0</td>\n",
       "    </tr>\n",
       "    <tr>\n",
       "      <th>175</th>\n",
       "      <td>1.0</td>\n",
       "      <td>194.0</td>\n",
       "      <td>0.000000</td>\n",
       "      <td>0.000000</td>\n",
       "      <td>0.000000</td>\n",
       "      <td>0.000000</td>\n",
       "      <td>3901</td>\n",
       "      <td>1.0</td>\n",
       "      <td>0.000000</td>\n",
       "      <td>194.000000</td>\n",
       "      <td>False</td>\n",
       "      <td>Douenne (2020)</td>\n",
       "      <td>NaN</td>\n",
       "    </tr>\n",
       "  </tbody>\n",
       "</table>\n",
       "<p>12081 rows × 13 columns</p>\n",
       "</div>"
      ],
      "text/plain": [
       "       ocde10  cheques_energie  ticgn_officielle_2019_in_2017  \\\n",
       "10137     1.0            194.0                       0.000000   \n",
       "6656      2.1            277.0                       0.000000   \n",
       "845       1.0            194.0                      35.860615   \n",
       "7583      1.0            194.0                       0.000000   \n",
       "4603      1.0            194.0                       0.000000   \n",
       "...       ...              ...                            ...   \n",
       "4908      1.5              0.0                     161.798584   \n",
       "8795      1.5              0.0                     301.480652   \n",
       "8796      1.3              0.0                       0.000000   \n",
       "8987      1.5              0.0                       0.000000   \n",
       "175       1.0            194.0                       0.000000   \n",
       "\n",
       "       total_taxes_energies       ticgn  rev_disp_loyerimput  pondmen  \\\n",
       "10137            867.485291    0.000000             0.000000     3180   \n",
       "6656            1060.844727    0.000000             0.000000     2073   \n",
       "845              507.214661   24.988861             0.000000     2632   \n",
       "7583             242.398499    0.000000             0.000000     6455   \n",
       "4603             198.233994    0.000000             0.000000     4467   \n",
       "...                     ...         ...                  ...      ...   \n",
       "4908               0.000000  112.814163         39712.878906     2669   \n",
       "8795               0.000000  210.207565         60138.906250     2230   \n",
       "8796               0.000000    0.000000         32556.853516      450   \n",
       "8987               0.000000    0.000000         34242.246094     2065   \n",
       "175                0.000000    0.000000             0.000000     3901   \n",
       "\n",
       "       niveau_vie_decile  total_taxes_energies_officielle_2019_in_2017  \\\n",
       "10137                1.0                                    941.055908   \n",
       "6656                 1.0                                   1177.362793   \n",
       "845                  1.0                                    524.879578   \n",
       "7583                 1.0                                    262.956055   \n",
       "4603                 1.0                                    205.137939   \n",
       "...                  ...                                           ...   \n",
       "4908                 5.0                                      0.000000   \n",
       "8795                 9.0                                      0.000000   \n",
       "8796                 5.0                                      0.000000   \n",
       "8987                 5.0                                      0.000000   \n",
       "175                  1.0                                      0.000000   \n",
       "\n",
       "       Net_apres_cheques_energie  is_losers  ref_elasticity  taux_effort  \n",
       "10137                 120.429382      False  Douenne (2020)          inf  \n",
       "6656                  160.481934      False  Douenne (2020)          inf  \n",
       "845                   165.463333      False  Douenne (2020)          inf  \n",
       "7583                  173.442444      False  Douenne (2020)          inf  \n",
       "4603                  187.096054      False  Douenne (2020)          inf  \n",
       "...                          ...        ...             ...          ...  \n",
       "4908                  -48.984421       True  Douenne (2020)          0.0  \n",
       "8795                  -91.273087       True  Douenne (2020)          0.0  \n",
       "8796                    0.000000      False  Douenne (2020)          0.0  \n",
       "8987                    0.000000      False  Douenne (2020)          0.0  \n",
       "175                   194.000000      False  Douenne (2020)          NaN  \n",
       "\n",
       "[12081 rows x 13 columns]"
      ]
     },
     "execution_count": 62,
     "metadata": {},
     "output_type": "execute_result"
    }
   ],
   "source": [
    "menages_reform.sort_values(by = 'taux_effort', ascending= False)"
   ]
  },
  {
   "cell_type": "code",
   "execution_count": null,
   "metadata": {},
   "outputs": [],
   "source": []
  }
 ],
 "metadata": {
  "kernelspec": {
   "display_name": "hervenv",
   "language": "python",
   "name": "python3"
  },
  "language_info": {
   "codemirror_mode": {
    "name": "ipython",
    "version": 3
   },
   "file_extension": ".py",
   "mimetype": "text/x-python",
   "name": "python",
   "nbconvert_exporter": "python",
   "pygments_lexer": "ipython3",
   "version": "3.9.0"
  },
  "orig_nbformat": 4
 },
 "nbformat": 4,
 "nbformat_minor": 2
}
